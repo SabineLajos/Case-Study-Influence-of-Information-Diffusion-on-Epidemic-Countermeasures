{
 "cells": [
  {
   "cell_type": "code",
   "execution_count": 1,
   "id": "29caa2b5",
   "metadata": {
    "pycharm": {
     "name": "#%%\n"
    }
   },
   "outputs": [],
   "source": [
    "import os\n",
    "import numpy as np\n",
    "import pandas as pd\n",
    "from scipy.integrate import odeint\n",
    "import matplotlib.pyplot as plt\n",
    "import seaborn as sns\n",
    "sns.set()\n",
    "from tqdm.notebook import tqdm"
   ]
  },
  {
   "cell_type": "markdown",
   "source": [],
   "metadata": {
    "collapsed": false,
    "pycharm": {
     "name": "#%% md\n"
    }
   }
  },
  {
   "cell_type": "markdown",
   "id": "5bde22db",
   "metadata": {
    "pycharm": {
     "name": "#%% md\n"
    }
   },
   "source": [
    "## Original Parameter values"
   ]
  },
  {
   "cell_type": "markdown",
   "id": "1db8fc0c",
   "metadata": {
    "pycharm": {
     "name": "#%% md\n"
    }
   },
   "source": [
    "## ODE"
   ]
  },
  {
   "cell_type": "code",
   "execution_count": 2,
   "id": "9dc04c1a",
   "metadata": {
    "pycharm": {
     "name": "#%%\n"
    }
   },
   "outputs": [],
   "source": [
    "def f(x, t):\n",
    "    \n",
    "    #times of new restrictions\n",
    "    timeslot_1 = 589 - 549\n",
    "    timeslot_2 = timeslot_1 + 689-589\n",
    "    \n",
    "    if t<(timeslot_1):\n",
    "            ρ = ρ1 \n",
    "            σ = σ1 \n",
    "            τ = τ1 \n",
    "    elif t>=timeslot_1 and t < timeslot_2:\n",
    "            ρ = ρ2 \n",
    "            σ = σ2 \n",
    "            τ = τ2\n",
    "    else:\n",
    "            ρ = ρ3\n",
    "            σ = σ3\n",
    "            τ = τ3\n",
    "        \n",
    "    S,E,Q_1,Q_2,I,V,    L,U,D,R,H = x\n",
    "    \n",
    "    N = S + E + Q_1 + Q_2 + I + V\n",
    "    \n",
    "    Q = Q_1 + Q_2\n",
    "    \n",
    "    R_G = a*R/(1+a*R)\n",
    "\n",
    "    η_1 = η * 0.897 * (S/(S+V))\n",
    "    η_2 = η * 0.103\n",
    "    η_3 = η * 0.897 * (V/(S+V))\n",
    "\n",
    "    dS = -β * I/(N-Q) * S - ψ*( 1 - (R + τ*(U))/N + D/N ) * S - ρ * (1- (R + τ * (U))/N) * S + η_1 * Q_1\n",
    "    dE = β * I/(N-Q) * S + β * δ * I/(N-Q) * V - ρ * ( 1- (R + τ * (U))/N) * E - γ * E\n",
    "    dQ_1 = ρ * ( 1- (R + τ * (U))/N) * S + ρ * ( 1- (R + τ * (U))/N) * E + ρ * ( 1- (R + τ * (U))/N) * V - η_1 * Q_1 - η_2 * Q_1 - η_3 * Q_1\n",
    "    dQ_2 = σ * ( 1- R/N) * I + η_2 * Q_1 - r_2 * Q_2\n",
    "    dI = γ * E - σ * ( 1- R/N) * I - r_1 * I\n",
    "    dV = r_1 * I + r_2 * Q_2 + η_3 * Q_1 + ψ * ( 1- (R + τ * (U))/N + D/N) * S - β * δ * I/(N-Q) * V - ρ * ( 1- (R + τ * (U))/N) * V\n",
    "    \n",
    "    dL = -α * R/N * L*(1-(I+Q_2)/N) - α * U/N * L - α * D/N * L*(1+(I+Q_2)/N) + ϕ * R + ϕ * H\n",
    "\n",
    "    dU = α * U/N * L-  χ* R_G/N * U *(1-(I+Q_2)/N) - χ * D/N * U*(1+(I+Q_2)/N) - λ * U\n",
    "    dD = α * D/N * L*(1+(I+Q_2)/N) + χ * D/N * U*(1+(I+Q_2)/N) - λ * D \n",
    "    dR = α * R/N * L* (1-(I+Q_2)/N) + χ * R_G/N * U*(1-(I+Q_2)/N) - ϕ * R \n",
    "    dH = λ * D + λ * U - ϕ * H\n",
    "\n",
    "    return [dS,dE,dQ_1,dQ_2,dI,dV,dL,dU,dD,dR,dH]"
   ]
  },
  {
   "cell_type": "markdown",
   "id": "4b01cf1d",
   "metadata": {
    "pycharm": {
     "name": "#%% md\n"
    }
   },
   "source": [
    "## Initial values"
   ]
  },
  {
   "cell_type": "code",
   "execution_count": 3,
   "id": "b0fab089",
   "metadata": {
    "pycharm": {
     "name": "#%%\n"
    }
   },
   "outputs": [],
   "source": [
    "U = 140000\n",
    "D = 1400000\n",
    "R = 350000\n",
    "H = 0\n",
    "\n",
    "Q_2 = 3649881-3642450 #recovered from 12.07.-01.07\n",
    "V = 34715161\n"
   ]
  },
  {
   "cell_type": "code",
   "execution_count": 4,
   "outputs": [],
   "source": [
    "#Epidemic model\n",
    "β = 0.4\n",
    "r_1 = 0.1\n",
    "r_2 = 1/12\n",
    "γ = 1/4\n",
    "δ = 0.28\n",
    "ψ = 0.00199\n",
    "\n",
    "#Opinion model\n",
    "α = 0.071\n",
    "ϕ = 1.9685e-5\n",
    "χ = 0.0031\n",
    "λ = 4.2972e-5\n",
    "η = 1/2.5\n",
    "a = 0.8\n",
    "\n",
    "ρ1 = 1.959769532254296287e-04\n",
    "σ1 = 1.524108160070437035e-01\n",
    "τ1 = 2.954975435572986253e-01\n",
    "ρ2 = 1.282332136525898836e-03\n",
    "σ2 = 5.499123541780154278e-02\n",
    "τ2 = 5.705622081879080376e-01\n",
    "ρ3 = 7.219319175577609826e-06\n",
    "σ3 = 1.823169505631421772e-01\n",
    "τ3 = 1.327866618363038320e-04\n",
    "\n",
    "E = 1.711464626962858119e+03\n",
    "Q_1 = 9.708158050998896215e+03\n",
    "I = 9.788464694773647352e+03"
   ],
   "metadata": {
    "collapsed": false,
    "pycharm": {
     "name": "#%%\n"
    }
   }
  },
  {
   "cell_type": "code",
   "execution_count": 5,
   "outputs": [],
   "source": [
    "params = np.array([β,r_1,r_2,γ,δ,ψ,α,ϕ,χ,λ,η,a,ρ1,σ1,τ1,ρ2,σ2,τ2,ρ3,σ3,τ3,E,Q_1,Q_2,I,V,U,D,R])\n",
    "string_params = ['β','r_1','r_2','γ','δ','ψ','α','ϕ','χ','λ',\n",
    "                 'η','a','ρ1','σ1','τ1','ρ2','σ2','τ2','ρ3','σ3','τ3','E','Q_1','Q_2','I','V','U','D','R']"
   ],
   "metadata": {
    "collapsed": false,
    "pycharm": {
     "name": "#%%\n"
    }
   }
  },
  {
   "cell_type": "code",
   "execution_count": 6,
   "outputs": [],
   "source": [
    "S = 70000000 - E - Q_1 - Q_2 - I - V\n",
    "L = 70000000 - D - R - H - U\n",
    "\n",
    "x0 = [S, E, Q_1, Q_2, I, V,    #epidemics\n",
    "      L, U, D, R, H]  #opinion\n",
    "\n",
    "ts = np.linspace(0,183, 183)"
   ],
   "metadata": {
    "collapsed": false,
    "pycharm": {
     "name": "#%%\n"
    }
   }
  },
  {
   "cell_type": "code",
   "execution_count": 7,
   "outputs": [],
   "source": [
    "original = odeint(f,x0,ts)"
   ],
   "metadata": {
    "collapsed": false,
    "pycharm": {
     "name": "#%%\n"
    }
   }
  },
  {
   "cell_type": "markdown",
   "source": [
    "## Repeatedly Solve ODE with perturbed Parameters"
   ],
   "metadata": {
    "collapsed": false,
    "pycharm": {
     "name": "#%% md\n"
    }
   }
  },
  {
   "cell_type": "code",
   "execution_count": 8,
   "id": "383253a1",
   "metadata": {
    "pycharm": {
     "name": "#%%\n"
    }
   },
   "outputs": [],
   "source": [
    "def perturb_params(n, original_params, scale):\n",
    "    \n",
    "    solutions = []\n",
    "    ts = np.linspace(0,183, 183)\n",
    "\n",
    "    for i in tqdm(range(n), leave = False):\n",
    "        perturbed_params = np.random.uniform( (1-scale)*original_params, (1+scale)*original_params)\n",
    "        \n",
    "        β,r_1,r_2,γ,δ,ψ,α,ϕ,χ,λ,η,a,ρ1,σ1,τ1,ρ2,σ2,τ2,ρ3,σ3,τ3,E,Q_1,Q_2,I,V,U,D,R = perturbed_params\n",
    "        S = 70000000 - E - Q_1 - Q_2 - I - V\n",
    "        L = 70000000 - D - R - H - U\n",
    "        \n",
    "        x0 = [S, E, Q_1, Q_2, I, V,    #epidemics\n",
    "              L, U, D, R, H]  #opinion\n",
    "\n",
    "        #define function again to get new params\n",
    "        def f(x, t):\n",
    "            #times of new restrictions\n",
    "            timeslot_1 = 589 - 549\n",
    "            timeslot_2 = timeslot_1 + 689-589\n",
    "            timeslot_3 = timeslot_1+timeslot_2 + 703-689\n",
    "\n",
    "            if t<(timeslot_1):\n",
    "                ρ = ρ1\n",
    "                σ = σ1\n",
    "                τ = τ1\n",
    "            elif t>=timeslot_1 and t < timeslot_2:\n",
    "                ρ = ρ2\n",
    "                σ = σ2\n",
    "                τ = τ2\n",
    "            else:\n",
    "                ρ = ρ3\n",
    "                σ = σ3\n",
    "                τ = τ3\n",
    "\n",
    "            S,E,Q_1,Q_2,I,V,    L,U,D,R,H = x\n",
    "\n",
    "            N = S + E + Q_1 + Q_2 + I + V\n",
    "\n",
    "            Q = Q_1 + Q_2\n",
    "\n",
    "            R_G = a*R/(1+a*R)\n",
    "\n",
    "            η_1 = η * 0.897 * (S/(S+V))\n",
    "            η_2 = η * 0.103\n",
    "            η_3 = η * 0.897 * (V/(S+V))\n",
    "\n",
    "            dS = -β * I/(N-Q) * S - ψ*( 1 - (R + τ*(U))/N + D/N ) * S - ρ * (1- (R + τ * (U))/N) * S + η_1 * Q_1\n",
    "            dE = β * I/(N-Q) * S + β * δ * I/(N-Q) * V - ρ * ( 1- (R + τ * (U))/N) * E - γ * E\n",
    "            dQ_1 = ρ * ( 1- (R + τ * (U))/N) * S + ρ * ( 1- (R + τ * (U))/N) * E + ρ * ( 1- (R + τ * (U))/N) * V - η_1 * Q_1 - η_2 * Q_1 - η_3 * Q_1\n",
    "            dQ_2 = σ * ( 1- R/N) * I + η_2 * Q_1 - r_2 * Q_2\n",
    "            dI = γ * E - σ * ( 1- R/N) * I - r_1 * I\n",
    "            dV = r_1 * I + r_2 * Q_2 + η_3 * Q_1 + ψ * ( 1- (R + τ * (U))/N + D/N) * S - β * δ * I/(N-Q) * V - ρ * ( 1- (R + τ * (U))/N) * V\n",
    "\n",
    "            dL = -α * R/N * L*(1-(I+Q_2)/N) - α * U/N * L - α * D/N * L*(1+(I+Q_2)/N) + ϕ * R + ϕ * H\n",
    "\n",
    "            dU = α * U/N * L-  χ* R_G/N * U *(1-(I+Q_2)/N) - χ * D/N * U*(1+(I+Q_2)/N) - λ * U\n",
    "            dD = α * D/N * L*(1+(I+Q_2)/N) + χ * D/N * U*(1+(I+Q_2)/N) - λ * D\n",
    "            dR = α * R/N * L* (1-(I+Q_2)/N) + χ * R_G/N * U*(1-(I+Q_2)/N) - ϕ * R\n",
    "            dH = λ * D + λ * U - ϕ * H\n",
    "\n",
    "            return [dS,dE,dQ_1,dQ_2,dI,dV,dL,dU,dD,dR,dH]\n",
    "        solutions.append(odeint(f, x0, ts))\n",
    "        \n",
    "    return solutions"
   ]
  },
  {
   "cell_type": "markdown",
   "id": "a8c0c183",
   "metadata": {
    "pycharm": {
     "name": "#%% md\n"
    }
   },
   "source": [
    "# Functions for finding the minimum and maximum deviations"
   ]
  },
  {
   "cell_type": "code",
   "execution_count": 9,
   "id": "b2b6ae68",
   "metadata": {
    "pycharm": {
     "name": "#%%\n"
    }
   },
   "outputs": [],
   "source": [
    "def get_min_max_2(solutions):\n",
    "    sol_arr = np.array(solutions)\n",
    "    #get min/max solutions\n",
    "    S_max = np.amax(sol_arr, axis=0)\n",
    "    S_min = np.amin(sol_arr, axis=0)\n",
    "    #get index of min/max solutions, index is taken from the first entry, if multiple are available\n",
    "    S_max_index = np.argmax(sol_arr, axis=0)\n",
    "    S_min_index = np.argmin(sol_arr, axis=0)\n",
    "\n",
    "    return [S_max, S_min, S_max_index, S_min_index]\n"
   ]
  },
  {
   "cell_type": "code",
   "execution_count": 10,
   "id": "fd8c5747",
   "metadata": {
    "pycharm": {
     "name": "#%%\n"
    }
   },
   "outputs": [],
   "source": [
    "def find_max_min_diviation_param(sol_max, sol_min, original_curves, index_max, index_min, changed_params):\n",
    "    save_max_param_per_compartment = []\n",
    "    save_min_param_per_compartment = []\n",
    "\n",
    "    k, n = sol_max.shape\n",
    "    for i in range(n):\n",
    "        ind_max = np.argmax(sol_max[:,i]-original_curves[:,i])\n",
    "        ind_min = np.argmin(sol_min[:,i]-original_curves[:,i]) #takes the most negative one\n",
    "        save_max_param_per_compartment.append(changed_params[index_max[ind_max,i]])\n",
    "        save_min_param_per_compartment.append(changed_params[index_min[ind_min,i]])\n",
    "    return [save_max_param_per_compartment, save_min_param_per_compartment]"
   ]
  },
  {
   "cell_type": "code",
   "execution_count": 11,
   "outputs": [],
   "source": [
    "def perturb_single_param_2(n, original_params, scale, index):\n",
    "\n",
    "    mesh = np.linspace(original_params[index]*(1-scale), original_params[index]*(1+scale), n)\n",
    "    solutions = []\n",
    "    parameter_diviations = []\n",
    "    ts = np.linspace(0,183, 183)\n",
    "\n",
    "    for i in tqdm(range(n)):\n",
    "        perturbed_params = np.copy(original_params)\n",
    "        perturbed_params[index] = mesh[i]\n",
    "        parameter_diviations.append(mesh[i])\n",
    "        β,r_1,r_2,γ,δ,ψ,α,ϕ,χ,λ,η,a,ρ1,σ1,τ1,ρ2,σ2,τ2,ρ3,σ3,τ3,E,Q_1,Q_2,I,V,U,D,R = perturbed_params\n",
    "\n",
    "        S = 70000000 - E - Q_1 - Q_2 - I - V\n",
    "        L = 70000000 - D - R - H - U\n",
    "\n",
    "        x0 = [S, E, Q_1, Q_2, I, V,    #epidemics\n",
    "              L, U, D, R, H]   #opinion\n",
    "\n",
    "        #define the function anew:\n",
    "        def f(x, t):\n",
    "            #times of new restrictions\n",
    "            timeslot_1 = 589 - 549\n",
    "            timeslot_2 = timeslot_1 + 689-589\n",
    "\n",
    "            if t<(timeslot_1):\n",
    "                ρ = ρ1\n",
    "                σ = σ1\n",
    "                τ = τ1\n",
    "            elif t>=timeslot_1 and t < timeslot_2:\n",
    "                ρ = ρ2\n",
    "                σ = σ2\n",
    "                τ = τ2\n",
    "            else:\n",
    "                ρ = ρ3\n",
    "                σ = σ3\n",
    "                τ = τ3\n",
    "\n",
    "            S,E,Q_1,Q_2,I,V,    L,U,D,R,H = x\n",
    "\n",
    "            N = S + E + Q_1 + Q_2 + I + V\n",
    "\n",
    "            Q = Q_1 + Q_2\n",
    "\n",
    "            R_G = a*R/(1+a*R)\n",
    "\n",
    "            η_1 = η * 0.897 * (S/(S+V))\n",
    "            η_2 = η * 0.103\n",
    "            η_3 = η * 0.897 * (V/(S+V))\n",
    "\n",
    "            dS = -β * I/(N-Q) * S - ψ*( 1 - (R + τ*(U))/N + D/N ) * S - ρ * (1- (R + τ * (U))/N) * S + η_1 * Q_1\n",
    "            dE = β * I/(N-Q) * S + β * δ * I/(N-Q) * V - ρ * ( 1- (R + τ * (U))/N) * E - γ * E\n",
    "            dQ_1 = ρ * ( 1- (R + τ * (U))/N) * S + ρ * ( 1- (R + τ * (U))/N) * E + ρ * ( 1- (R + τ * (U))/N) * V - η_1 * Q_1 - η_2 * Q_1 - η_3 * Q_1\n",
    "            dQ_2 = σ * ( 1- R/N) * I + η_2 * Q_1 - r_2 * Q_2\n",
    "            dI = γ * E - σ * ( 1- R/N) * I - r_1 * I\n",
    "            dV = r_1 * I + r_2 * Q_2 + η_3 * Q_1 + ψ * ( 1- (R + τ * (U))/N + D/N) * S - β * δ * I/(N-Q) * V - ρ * ( 1- (R + τ * (U))/N) * V\n",
    "\n",
    "            dL = -α * R/N * L*(1-(I+Q_2)/N) - α * U/N * L - α * D/N * L*(1+(I+Q_2)/N) + ϕ * R + ϕ * H\n",
    "\n",
    "            dU = α * U/N * L-  χ* R_G/N * U *(1-(I+Q_2)/N) - χ * D/N * U*(1+(I+Q_2)/N) - λ * U\n",
    "            dD = α * D/N * L*(1+(I+Q_2)/N) + χ * D/N * U*(1+(I+Q_2)/N) - λ * D\n",
    "            dR = α * R/N * L* (1-(I+Q_2)/N) + χ * R_G/N * U*(1-(I+Q_2)/N) - ϕ * R\n",
    "            dH = λ * D + λ * U - ϕ * H\n",
    "\n",
    "            return [dS,dE,dQ_1,dQ_2,dI,dV,dL,dU,dD,dR,dH]\n",
    "\n",
    "\n",
    "\n",
    "        solutions.append(odeint(f, x0, ts))\n",
    "\n",
    "    return solutions, parameter_diviations"
   ],
   "metadata": {
    "collapsed": false,
    "pycharm": {
     "name": "#%%\n"
    }
   }
  },
  {
   "cell_type": "markdown",
   "source": [
    "# Functions for an automatic plot"
   ],
   "metadata": {
    "collapsed": false,
    "pycharm": {
     "name": "#%% md\n"
    }
   }
  },
  {
   "cell_type": "code",
   "execution_count": 12,
   "outputs": [],
   "source": [
    "def plot_compartments_2(original_curves, perturbed_params,  single_solution, string_params, index, file_specific_range = False):\n",
    "    compartment_names = ['S', 'E', '$Q_1$', '$Q_2$', 'I', 'V',    #epidemics\n",
    "                         'L', 'U', 'D', 'R', 'H']\n",
    "    S_max, S_min, S_max_index, S_min_index = get_min_max_2(single_solution)\n",
    "    max_params_per_comp, min_params_per_comp = find_max_min_diviation_param(S_max, S_min, original, S_max_index, S_min_index, perturbed_params)\n",
    "\n",
    "\n",
    "    #Epidemie\n",
    "    figure, axis = plt.subplots(6, 1)\n",
    "    plt.rcParams[\"figure.figsize\"] = (25/2,25/2)\n",
    "    for i in range(6):\n",
    "        axis[i].plot(ts, S_max[:,i], color = 'r')\n",
    "        axis[i].plot(ts, original_curves[:,i], color = 'g')\n",
    "        axis[i].plot(ts, S_min[:,i], color = 'b')\n",
    "        axis[i].legend(['max ' + string_params[index] +': ' + str(max_params_per_comp[i]),\n",
    "                        'original ' + string_params[index]+': '+ str(params[index]) ,\n",
    "                        'min ' + string_params[index] +': '+ str(min_params_per_comp[i])])\n",
    "        axis[i].set_title(compartment_names[i], fontsize = 16)\n",
    "\n",
    "    if file_specific_range == True:\n",
    "        figure.savefig('perturb_specific_range/epidemic_plot_' + string_params[index] +\n",
    "                       '_perturbed.jpg',bbox_inches = 'tight', dpi=500)\n",
    "    else:\n",
    "        figure.savefig('perturbed_compartment_plots/epidemic_plot_' + string_params[index] +\n",
    "                       '_perturbed.jpg',bbox_inches = 'tight', dpi=500)\n",
    "\n",
    "    plt.close(figure)\n",
    "    plt.close('all')\n",
    "\n",
    "    #Opinion\n",
    "    figure, axis = plt.subplots(5, 1)\n",
    "    plt.rcParams[\"figure.figsize\"] = (25/2,25/2)\n",
    "    for i in range(6,11):\n",
    "        axis[i-6].plot(ts, S_max[:,i], color = 'r')\n",
    "        axis[i-6].plot(ts, original_curves[:,i], color = 'g')\n",
    "        axis[i-6].plot(ts, S_min[:,i], color = 'b')\n",
    "        axis[i-6].legend(['max ' + string_params[index] +': ' + str(max_params_per_comp[i]),\n",
    "                        'original ' + string_params[index]+': '+ str(params[index]) ,\n",
    "                        'min ' + string_params[index] +': '+ str(min_params_per_comp[i])])\n",
    "        axis[i-6].set_title(compartment_names[i], fontsize = 16)\n",
    "\n",
    "    if file_specific_range == True:\n",
    "        figure.savefig('perturb_specific_range/opinion_plot_' + string_params[index] +\n",
    "                       '_perturbed.jpg',bbox_inches = 'tight', dpi=500)\n",
    "    else:\n",
    "        figure.savefig('perturbed_compartment_plots/opinion_plot_' + string_params[index] +\n",
    "                       '_perturbed.jpg', bbox_inches = 'tight', dpi=500)\n",
    "    plt.close(figure)\n",
    "    plt.close('all')"
   ],
   "metadata": {
    "collapsed": false,
    "pycharm": {
     "name": "#%%\n"
    }
   }
  },
  {
   "cell_type": "code",
   "execution_count": 13,
   "outputs": [],
   "source": [
    "def plot_compartments_all(original_curves, single_solution, string_params, index, file_specific_range = False):\n",
    "    compartment_names = ['S', 'E', '$Q_1$', '$Q_2$', 'I', 'V',    #epidemics\n",
    "                         'L', 'U', 'D', 'R', 'H']\n",
    "\n",
    "    S_max, S_min, S_max_index, S_min_index = get_min_max_2(single_solution)\n",
    "\n",
    "    #Epidemie\n",
    "    figure, axis = plt.subplots(6, 1)\n",
    "    plt.rcParams[\"figure.figsize\"] = (25/2,25/2)\n",
    "    for i in range(6):\n",
    "        axis[i].plot(ts, S_max[:,i], color = 'r')\n",
    "        axis[i].plot(ts, original_curves[:,i], color = 'g')\n",
    "        axis[i].plot(ts, S_min[:,i], color = 'b')\n",
    "        axis[i].legend(['max','original','min'])\n",
    "        axis[i].set_title(compartment_names[i], fontsize = 16)\n",
    "\n",
    "    figure.savefig('perturbed_compartment_plots/epidemic_plot_' + string_params[index] +\n",
    "                   '_perturbed.jpg', bbox_inches='tight', dpi=500)\n",
    "    plt.close(figure)\n",
    "    plt.close('all')\n",
    "\n",
    "    #Opinion\n",
    "    figure, axis = plt.subplots(5, 1)\n",
    "    plt.rcParams[\"figure.figsize\"] = (25/2,25/2)\n",
    "    for i in range(6,11):\n",
    "        axis[i-6].plot(ts, S_max[:,i], color = 'r')\n",
    "        axis[i-6].plot(ts, original_curves[:,i], color = 'g')\n",
    "        axis[i-6].plot(ts, S_min[:,i], color = 'b')\n",
    "        axis[i-6].legend(['max','original','min'])\n",
    "        axis[i-6].set_title(compartment_names[i], fontsize = 16)\n",
    "\n",
    "    figure.savefig('perturbed_compartment_plots/opinion_plot_' + string_params[index] +\n",
    "                   '_perturbed.jpg', bbox_inches='tight', dpi=500)\n",
    "    plt.close(figure)\n",
    "    plt.close('all')\n",
    "\n",
    "\n",
    "    #Only for the report\n",
    "\n",
    "    plt.figure(figsize=(8.46, 4.7))\n",
    "    plt.plot(ts, S_max[:,3], color = 'r')\n",
    "    plt.plot(ts, original_curves[:,3], color = 'g')\n",
    "    plt.plot(ts, S_min[:,i], color = 'b')\n",
    "    plt.xlabel(\"t in days\")\n",
    "    plt.title(\"Uncertainty of compartment $Q_2$\",fontsize = 16)\n",
    "    plt.legend(['max','original','min'])\n",
    "    plt.savefig('perturbed_compartment_plots/Simulation_uncertainty_all_perturbed_Q_2.jpg', bbox_inches = 'tight', dpi = 500)\n",
    "    plt.close(figure)\n",
    "    plt.close('all')"
   ],
   "metadata": {
    "collapsed": false,
    "pycharm": {
     "name": "#%%\n"
    }
   }
  },
  {
   "cell_type": "markdown",
   "source": [
    "# Functions for calculating and ordering the two uncertainty measures"
   ],
   "metadata": {
    "collapsed": false,
    "pycharm": {
     "name": "#%% md\n"
    }
   }
  },
  {
   "cell_type": "code",
   "execution_count": 14,
   "outputs": [],
   "source": [
    "'''\n",
    "The uncertainty measure in this function is defined as follows:\n",
    "- the uncertainty is calculated by adding up the difference between the maximal and minimal values of each curve\n",
    "- here the maximum deviation between all compartments and one compartment alone is calculated\n",
    "\n",
    "Input:\n",
    "- list_of_matrices, where len(list_of_matrices) = #Parameter and each matrix has the dimension D = 180x11, t x #compartments\n",
    "- list_of_matrices already consists of the difference between the largest and smalles diviation:  S_max - Smin\n",
    "\n",
    "- list_of_parameters is a list of strings with the parameters\n",
    "\n",
    "Output:\n",
    "- largest_diviation_param: list of parameters which caused the largest diviation in the sum over all timepoints t\n",
    "'''\n",
    "\n",
    "def find_most_uncertain_parameter(list_of_matrices,list_of_parameters):\n",
    "    n = len(list_of_matrices) #this corresponds to the number of parameters\n",
    "\n",
    "\n",
    "    #Calculate uncertainty by adding up all differences of the min and max curves\n",
    "    vector_rowSum = []\n",
    "    sum_all_compartments = []\n",
    "    for i in range(n):\n",
    "        A = np.matrix(np.copy(list_of_matrices[i]))\n",
    "        v = A.sum(axis=0)\n",
    "        deviation_all_compartments = np.sum(v)\n",
    "        vector_rowSum.append(deviation_all_compartments)\n",
    "        sum_all_compartments.append(v)\n",
    "    #we want a list of all parameters and their uncertainty value\n",
    "    ordered_by_uncertainty = []\n",
    "    #if the largest value is recorded, then the value is set to -1, to get the second biggest value.\n",
    "    for i in range(len(vector_rowSum)):\n",
    "        k = np.argmax(vector_rowSum)\n",
    "        value, name = vector_rowSum[k]/183, list_of_parameters[k]\n",
    "        ordered_by_uncertainty.append([name, value])\n",
    "        #the second largest. All values in these matrices are positive, so we simply put it to -1\n",
    "        vector_rowSum[k] = -1\n",
    "\n",
    "\n",
    "    return ordered_by_uncertainty\n"
   ],
   "metadata": {
    "collapsed": false,
    "pycharm": {
     "name": "#%%\n"
    }
   }
  },
  {
   "cell_type": "code",
   "execution_count": 15,
   "outputs": [],
   "source": [
    "def find_most_uncertain_parameter_on_I(list_of_matrices,list_of_parameters):\n",
    "    n = len(list_of_matrices) #this corresponds to the number of parameters\n",
    "    #Calculate uncertainty by adding up all differences of the min and max curves\n",
    "    compartment_I = []\n",
    "    for i in range(n):\n",
    "        A = np.matrix(np.copy(list_of_matrices[i]))\n",
    "        v = A.sum(axis=0)\n",
    "        compartment_I.append(v[0,4])\n",
    "    #we want a list of all parameters and their uncertainty value\n",
    "    ordered_by_uncertainty = []\n",
    "    #if the largest value is recorded, then the value is set to -1, to get the second biggest value.\n",
    "    for i in range(n):\n",
    "        k = np.argmax(compartment_I)\n",
    "        value, name = compartment_I[k]/183, list_of_parameters[k]\n",
    "        ordered_by_uncertainty.append([name, value])\n",
    "        #the second largest. All values in these matrices are positive, so we simply put it to -1\n",
    "        compartment_I[k] = -1\n",
    "    return ordered_by_uncertainty"
   ],
   "metadata": {
    "collapsed": false,
    "pycharm": {
     "name": "#%%\n"
    }
   }
  },
  {
   "cell_type": "markdown",
   "source": [
    "# Plot all curves and calculate the sensitivity\n",
    "\n",
    "## You need a folder with the name: \"perturbed_compartment_plots\" in your path"
   ],
   "metadata": {
    "collapsed": false,
    "pycharm": {
     "name": "#%% md\n"
    }
   }
  },
  {
   "cell_type": "code",
   "execution_count": 16,
   "outputs": [],
   "source": [
    "def plot_all_uncertainty_with_params(original_curves, params, string_params, n_perturb, perturb_scale):\n",
    "\n",
    "    list_of_maxMinusmin = []\n",
    "    for i in range(len(params)):\n",
    "        single_perturbed_sol, parameter_perturbed = perturb_single_param_2(n_perturb, params, perturb_scale, i)\n",
    "        S_max, S_min, S_max_index, S_min_index = get_min_max_2(single_perturbed_sol)\n",
    "        list_of_maxMinusmin.append(S_max-S_min)\n",
    "        plot_compartments_2(original_curves, parameter_perturbed, single_perturbed_sol, string_params, i)\n",
    "        print('Done with parameter ' + string_params[i])\n",
    "\n",
    "    #calculate the min/ max diviation quantitatively\n",
    "    print('Ordered from largest to smallest influence overall')\n",
    "    all_params_ordered_by_uncertainty = find_most_uncertain_parameter(list_of_maxMinusmin, string_params)\n",
    "    df = pd.DataFrame(all_params_ordered_by_uncertainty, columns=['param_name', 'value'])\n",
    "    df.to_csv('all_params_ordered_by_uncertainty.csv')\n",
    "    print(df)\n",
    "\n",
    "    #calculate the min/max diviation of I quantitatively\n",
    "    print('Ordered from largest to smallest influence on I')\n",
    "    all_params_ordered_by_uncertainty = find_most_uncertain_parameter_on_I(list_of_maxMinusmin, string_params)\n",
    "    df = pd.DataFrame(all_params_ordered_by_uncertainty, columns=['param_name', 'value'])\n",
    "    df.to_csv('all_params_ordered_by_uncertainty_influence_on_I.csv')\n",
    "    print(df)\n",
    "\n",
    "\n",
    "    #add plot: all params are perturbed\n",
    "    all_perturbed = perturb_params(n_perturb, params, perturb_scale)\n",
    "    plot_compartments_all(original_curves,  all_perturbed, ['all'],0)\n",
    "    print('All parameters were perturbed. The computation is done.')"
   ],
   "metadata": {
    "collapsed": false,
    "pycharm": {
     "name": "#%%\n"
    }
   }
  },
  {
   "cell_type": "markdown",
   "source": [
    "# Perform perturbation and uncertainty analysis\n",
    "\n",
    "The calculations and plots are carried out automatically.\n",
    "\n",
    "The plots are saved in \"perturbed_compartment_plots\".\n",
    "The results of the uncertainty analysis is stored in two files:\n",
    "1. all_params_ordered_by_uncertainty.csv\n",
    "2. all_params_ordered_by_uncertainty_influence_on_I.csv"
   ],
   "metadata": {
    "collapsed": false,
    "pycharm": {
     "name": "#%% md\n"
    }
   }
  },
  {
   "cell_type": "code",
   "execution_count": null,
   "outputs": [
    {
     "data": {
      "text/plain": "HBox(children=(FloatProgress(value=0.0, max=10.0), HTML(value='')))",
      "application/vnd.jupyter.widget-view+json": {
       "version_major": 2,
       "version_minor": 0,
       "model_id": "b623fee8895b44c8bfb60cec28774df7"
      }
     },
     "metadata": {},
     "output_type": "display_data"
    },
    {
     "name": "stdout",
     "output_type": "stream",
     "text": [
      "\n",
      "Done with parameter β\n"
     ]
    },
    {
     "data": {
      "text/plain": "HBox(children=(FloatProgress(value=0.0, max=10.0), HTML(value='')))",
      "application/vnd.jupyter.widget-view+json": {
       "version_major": 2,
       "version_minor": 0,
       "model_id": "dc29821726764f83b7a850b62de84f08"
      }
     },
     "metadata": {},
     "output_type": "display_data"
    },
    {
     "name": "stdout",
     "output_type": "stream",
     "text": [
      "\n",
      "Done with parameter r_1\n"
     ]
    },
    {
     "data": {
      "text/plain": "HBox(children=(FloatProgress(value=0.0, max=10.0), HTML(value='')))",
      "application/vnd.jupyter.widget-view+json": {
       "version_major": 2,
       "version_minor": 0,
       "model_id": "46bef696829e483da2dd7fb37141930f"
      }
     },
     "metadata": {},
     "output_type": "display_data"
    },
    {
     "name": "stdout",
     "output_type": "stream",
     "text": [
      "\n",
      "Done with parameter r_2\n"
     ]
    },
    {
     "data": {
      "text/plain": "HBox(children=(FloatProgress(value=0.0, max=10.0), HTML(value='')))",
      "application/vnd.jupyter.widget-view+json": {
       "version_major": 2,
       "version_minor": 0,
       "model_id": "9d459d6b25794fc7a4859dee9bf9cf71"
      }
     },
     "metadata": {},
     "output_type": "display_data"
    },
    {
     "name": "stdout",
     "output_type": "stream",
     "text": [
      "\n",
      "Done with parameter γ\n"
     ]
    },
    {
     "data": {
      "text/plain": "HBox(children=(FloatProgress(value=0.0, max=10.0), HTML(value='')))",
      "application/vnd.jupyter.widget-view+json": {
       "version_major": 2,
       "version_minor": 0,
       "model_id": "6b80b81f55fd49ddbbdd3fc8fc4883b2"
      }
     },
     "metadata": {},
     "output_type": "display_data"
    },
    {
     "name": "stdout",
     "output_type": "stream",
     "text": [
      "\n"
     ]
    }
   ],
   "source": [
    "plot_all_uncertainty_with_params(original, params, string_params,10, 0.05)"
   ],
   "metadata": {
    "collapsed": false,
    "pycharm": {
     "name": "#%%\n",
     "is_executing": true
    }
   }
  },
  {
   "cell_type": "markdown",
   "source": [
    "# Specific range perturbation from Boxplots\n",
    "## You need a folder with the name: \"perturb_specific_range\" in your path"
   ],
   "metadata": {
    "collapsed": false,
    "pycharm": {
     "name": "#%% md\n"
    }
   }
  },
  {
   "cell_type": "code",
   "execution_count": null,
   "outputs": [],
   "source": [
    "def perturb_single_param_specific_range(n, original_params, upper_bound, lower_bound, index):\n",
    "\n",
    "    mesh = np.linspace(upper_bound, lower_bound, n)\n",
    "    solutions = []\n",
    "    parameter_diviations = []\n",
    "    ts = np.linspace(0,183, 183)\n",
    "\n",
    "    for i in tqdm(range(n)):\n",
    "        perturbed_params = np.copy(original_params)\n",
    "        perturbed_params[index] = mesh[i]\n",
    "        parameter_diviations.append(mesh[i])\n",
    "        β,r_1,r_2,γ,δ,ψ,α,ϕ,χ,λ,η,a,ρ1,σ1,τ1,ρ2,σ2,τ2,ρ3,σ3,τ3,E,Q_1,Q_2,I,V,U,D,R = perturbed_params\n",
    "\n",
    "        S = 70000000 - E - Q_1 - Q_2 - I - V\n",
    "        L = 70000000 - D - R - H - U\n",
    "\n",
    "        x0 = [S, E, Q_1, Q_2, I, V,    #epidemics\n",
    "              L, U, D, R, H]   #opinion\n",
    "\n",
    "        #define the function anew:\n",
    "        def f_loc(x, t):\n",
    "            #times of new restrictions\n",
    "            timeslot_1 = 589 - 549\n",
    "            timeslot_2 = timeslot_1 + 689-589\n",
    "            timeslot_3 = timeslot_1+timeslot_2 + 703-689\n",
    "\n",
    "            if t<(timeslot_1):\n",
    "                ρ = ρ1\n",
    "                σ = σ1\n",
    "                τ = τ1\n",
    "            elif t>=timeslot_1 and t < timeslot_2:\n",
    "                ρ = ρ2\n",
    "                σ = σ2\n",
    "                τ = τ2\n",
    "            else:\n",
    "                ρ = ρ3\n",
    "                σ = σ3\n",
    "                τ = τ3\n",
    "\n",
    "            S,E,Q_1,Q_2,I,V,    L,U,D,R,H = x\n",
    "\n",
    "            N = S + E + Q_1 + Q_2 + I + V\n",
    "\n",
    "            Q = Q_1 + Q_2\n",
    "\n",
    "            R_G = a*R/(1+a*R)\n",
    "\n",
    "            η_1 = η * 0.897 * (S/(S+V))\n",
    "            η_2 = η * 0.103\n",
    "            η_3 = η * 0.897 * (V/(S+V))\n",
    "\n",
    "            dS = -β * I/(N-Q) * S - ψ*( 1 - (R + τ*(U))/N + D/N ) * S - ρ * (1- (R + τ * (U))/N) * S + η_1 * Q_1\n",
    "            dE = β * I/(N-Q) * S + β * δ * I/(N-Q) * V - ρ * ( 1- (R + τ * (U))/N) * E - γ * E\n",
    "            dQ_1 = ρ * ( 1- (R + τ * (U))/N) * S + ρ * ( 1- (R + τ * (U))/N) * E + ρ * ( 1- (R + τ * (U))/N) * V - η_1 * Q_1 - η_2 * Q_1 - η_3 * Q_1\n",
    "            dQ_2 = σ * ( 1- R/N) * I + η_2 * Q_1 - r_2 * Q_2\n",
    "            dI = γ * E - σ * ( 1- R/N) * I - r_1 * I\n",
    "            dV = r_1 * I + r_2 * Q_2 + η_3 * Q_1 + ψ * ( 1- (R + τ * (U))/N + D/N) * S - β * δ * I/(N-Q) * V - ρ * ( 1- (R + τ * (U))/N) * V\n",
    "\n",
    "            dL = -α * R/N * L*(1-(I+Q_2)/N) - α * U/N * L - α * D/N * L*(1+(I+Q_2)/N) + ϕ * R + ϕ * H\n",
    "\n",
    "            dU = α * U/N * L-  χ* R_G/N * U *(1-(I+Q_2)/N) - χ * D/N * U*(1+(I+Q_2)/N) - λ * U\n",
    "            dD = α * D/N * L*(1+(I+Q_2)/N) + χ * D/N * U*(1+(I+Q_2)/N) - λ * D\n",
    "            dR = α * R/N * L* (1-(I+Q_2)/N) + χ * R_G/N * U*(1-(I+Q_2)/N) - ϕ * R\n",
    "            dH = λ * D + λ * U - ϕ * H\n",
    "\n",
    "            return [dS,dE,dQ_1,dQ_2,dI,dV,dL,dU,dD,dR,dH]\n",
    "\n",
    "\n",
    "\n",
    "        solutions.append(odeint(f_loc, x0, ts))\n",
    "\n",
    "    return solutions, parameter_diviations"
   ],
   "metadata": {
    "collapsed": false,
    "pycharm": {
     "name": "#%%\n",
     "is_executing": true
    }
   }
  },
  {
   "cell_type": "code",
   "execution_count": null,
   "outputs": [],
   "source": [
    "#Specific cases: adjust where it should be saved!\n",
    "def plot_specific_uncertainty_with_bounds(original_curves, params, string_params, n_perturb, upper_bound, lower_bound, perturb_index):\n",
    "\n",
    "    single_perturbed_sol, parameter_perturbed = perturb_single_param_specific_range(n_perturb, params, upper_bound, lower_bound, perturb_index)\n",
    "    plot_compartments_2(original_curves, parameter_perturbed, single_perturbed_sol, string_params, perturb_index, True)\n",
    "    print('Done with parameter ' + string_params[perturb_index])\n",
    "    S_max, S_min, S_max_index, S_min_index = get_min_max_2(single_perturbed_sol)\n",
    "    return S_max - S_min\n"
   ],
   "metadata": {
    "collapsed": false,
    "pycharm": {
     "name": "#%%\n",
     "is_executing": true
    }
   }
  },
  {
   "cell_type": "markdown",
   "source": [
    "# Calculate and plot specific range perturbations\n",
    "\n",
    "The calculations and plots are carried out automatically.\n",
    "The plots are saved in \"perturb_specific_range\".\n",
    "The results of the sensitivity analysis is stored the file: specific_bounds_parameter_ordered_by_sensitivity.csv."
   ],
   "metadata": {
    "collapsed": false,
    "pycharm": {
     "name": "#%% md\n"
    }
   }
  },
  {
   "cell_type": "code",
   "execution_count": null,
   "outputs": [],
   "source": [
    "#params = np.array([β,r_1,r_2,γ,δ,ψ,α,ϕ,χ,λ,η,a,ρ1,σ1,τ1,ρ2,σ2,τ2,ρ3,σ3,τ3,E,Q_1,Q_2,I,V,U,D,R])\n",
    "min_max_liste = []\n",
    "n_perturbations = 50\n",
    "min_max_liste.append(plot_specific_uncertainty_with_bounds(original, params, string_params,n_perturbations, upper_bound=0.0003, lower_bound= 0.00016, perturb_index=12)) #rho 1\n",
    "min_max_liste.append(plot_specific_uncertainty_with_bounds(original, params, string_params,n_perturbations, upper_bound=0.15, lower_bound= 0.09, perturb_index=13)) # σ 1\n",
    "min_max_liste.append(plot_specific_uncertainty_with_bounds(original, params, string_params,n_perturbations, upper_bound=0.90, lower_bound= 0.18, perturb_index=14)) #tau 1\n",
    "min_max_liste.append(plot_specific_uncertainty_with_bounds(original, params, string_params,n_perturbations, upper_bound=0.00125, lower_bound= 0.0009, perturb_index=15)) #rho 2\n",
    "min_max_liste.append(plot_specific_uncertainty_with_bounds(original, params, string_params,n_perturbations, upper_bound=0.065, lower_bound= 0.03, perturb_index=16)) #σ 2\n",
    "min_max_liste.append(plot_specific_uncertainty_with_bounds(original, params, string_params,n_perturbations, upper_bound=0.98, lower_bound= 0.20, perturb_index=17)) #tau 2\n",
    "min_max_liste.append(plot_specific_uncertainty_with_bounds(original, params, string_params,n_perturbations, upper_bound=0.0025, lower_bound= 0, perturb_index=18)) #rho 3\n",
    "min_max_liste.append(plot_specific_uncertainty_with_bounds(original, params, string_params,n_perturbations, upper_bound=0.19, lower_bound= 0.16, perturb_index=19)) #sigma3\n",
    "min_max_liste.append(plot_specific_uncertainty_with_bounds(original, params, string_params,n_perturbations, upper_bound=1, lower_bound= 0.35, perturb_index=20)) #tau 3\n",
    "\n",
    "\n",
    "min_max_liste.append(plot_specific_uncertainty_with_bounds(original, params, string_params,n_perturbations, upper_bound=8500, lower_bound= 1800, perturb_index=21)) #E\n",
    "min_max_liste.append(plot_specific_uncertainty_with_bounds(original, params, string_params,n_perturbations, upper_bound=8600, lower_bound= 2700, perturb_index=22)) #Q_1\n",
    "min_max_liste.append(plot_specific_uncertainty_with_bounds(original, params, string_params,n_perturbations, upper_bound=8200, lower_bound= 1800, perturb_index=24)) #I\n",
    "\n",
    "print('Ordered from largest to smallest')\n",
    "string_params_short = ['ρ1','σ1','τ1','ρ2','σ2','τ2','ρ3','σ3','τ4','E','Q_1','I']\n",
    "ordered_uncertainty_params = find_most_uncertain_parameter(min_max_liste, string_params_short)\n",
    "print(ordered_uncertainty_params)\n",
    "df = pd.DataFrame(ordered_uncertainty_params, columns=['param_name', 'value'])\n",
    "print(df)\n",
    "df.to_csv('specific_bounds_parameter_ordered_by_uncertainty.csv')"
   ],
   "metadata": {
    "collapsed": false,
    "pycharm": {
     "name": "#%%\n",
     "is_executing": true
    }
   }
  },
  {
   "cell_type": "markdown",
   "source": [
    "# Load sensitivity results if needed:"
   ],
   "metadata": {
    "collapsed": false,
    "pycharm": {
     "name": "#%% md\n"
    }
   }
  },
  {
   "cell_type": "code",
   "execution_count": null,
   "outputs": [],
   "source": [
    "df = pd.read_csv('all_params_ordered_by_uncertainty.csv', usecols=['param_name', 'value'])\n",
    "print('all_params_ordered_by_uncertainty.csv \\n' )\n",
    "print(df)\n",
    "\n",
    "df3 = pd.read_csv('all_params_ordered_by_uncertainty_influence_on_I.csv', usecols=['param_name', 'value'])\n",
    "print('all_params_ordered_by_uncertainty_influence_on_I.csv')\n",
    "print(df3)\n",
    "\n",
    "df2 = pd.read_csv('specific_bounds_parameter_ordered_by_uncertainty.csv', usecols=['param_name', 'value'])\n",
    "print('specific_bounds_parameter_ordered_by_uncertainty')\n",
    "print(df2)"
   ],
   "metadata": {
    "collapsed": false,
    "pycharm": {
     "name": "#%%\n",
     "is_executing": true
    }
   }
  },
  {
   "cell_type": "code",
   "execution_count": null,
   "outputs": [],
   "source": [],
   "metadata": {
    "collapsed": false,
    "pycharm": {
     "name": "#%%\n",
     "is_executing": true
    }
   }
  }
 ],
 "metadata": {
  "kernelspec": {
   "display_name": "Python 3 (ipykernel)",
   "language": "python",
   "name": "python3"
  },
  "language_info": {
   "codemirror_mode": {
    "name": "ipython",
    "version": 3
   },
   "file_extension": ".py",
   "mimetype": "text/x-python",
   "name": "python",
   "nbconvert_exporter": "python",
   "pygments_lexer": "ipython3",
   "version": "3.7.3"
  }
 },
 "nbformat": 4,
 "nbformat_minor": 5
}
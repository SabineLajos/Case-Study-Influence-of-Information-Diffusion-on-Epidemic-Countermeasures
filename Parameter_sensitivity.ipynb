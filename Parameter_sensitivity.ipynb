{
 "cells": [
  {
   "cell_type": "code",
   "execution_count": 41,
   "id": "29caa2b5",
   "metadata": {
    "pycharm": {
     "name": "#%%\n"
    }
   },
   "outputs": [],
   "source": [
    "import os\n",
    "import numpy as np\n",
    "import pandas as pd\n",
    "from scipy.integrate import odeint\n",
    "import matplotlib.pyplot as plt\n",
    "import seaborn as sns\n",
    "sns.set()\n",
    "from tqdm.notebook import tqdm"
   ]
  },
  {
   "cell_type": "markdown",
   "id": "5bde22db",
   "metadata": {
    "pycharm": {
     "name": "#%% md\n"
    }
   },
   "source": [
    "## Original Parameter values"
   ]
  },
  {
   "cell_type": "markdown",
   "id": "1db8fc0c",
   "metadata": {
    "pycharm": {
     "name": "#%% md\n"
    }
   },
   "source": [
    "## ODE"
   ]
  },
  {
   "cell_type": "code",
   "execution_count": 42,
   "id": "9dc04c1a",
   "metadata": {
    "pycharm": {
     "name": "#%%\n"
    }
   },
   "outputs": [],
   "source": [
    "def f(x, t):\n",
    "    \n",
    "    #times of new restrictions\n",
    "    timeslot_1 = 589 - 549\n",
    "    timeslot_2 = timeslot_1 + 689-589\n",
    "    \n",
    "    if t<(timeslot_1):\n",
    "            ρ = ρ1 \n",
    "            σ = σ1 \n",
    "            τ = τ1 \n",
    "    elif t>=timeslot_1 and t < timeslot_2:\n",
    "            ρ = ρ2 \n",
    "            σ = σ2 \n",
    "            τ = τ2\n",
    "    else:\n",
    "            ρ = ρ3\n",
    "            σ = σ3\n",
    "            τ = τ3\n",
    "        \n",
    "    S,E,Q_1,Q_2,I,V,    L,U,D,R,H = x\n",
    "    \n",
    "    N = S + E + Q_1 + Q_2 + I + V\n",
    "    \n",
    "    Q = Q_1 + Q_2\n",
    "    \n",
    "    R_G = a*R/(1+a*R)\n",
    "\n",
    "    η_1 = η * 0.897 * (S/(S+V))\n",
    "    η_2 = η * 0.103\n",
    "    η_3 = η * 0.897 * (V/(S+V))\n",
    "\n",
    "    dS = -β * I/(N-Q) * S - ψ*( 1 - (R + τ*(U))/N + D/N ) * S - ρ * (1- (R + τ * (U))/N) * S + η_1 * Q_1\n",
    "    dE = β * I/(N-Q) * S + β * δ * I/(N-Q) * V - ρ * ( 1- (R + τ * (U))/N) * E - γ * E\n",
    "    dQ_1 = ρ * ( 1- (R + τ * (U))/N) * S + ρ * ( 1- (R + τ * (U))/N) * E + ρ * ( 1- (R + τ * (U))/N) * V - η_1 * Q_1 - η_2 * Q_1 - η_3 * Q_1\n",
    "    dQ_2 = σ * ( 1- R/N) * I + η_2 * Q_1 - r_2 * Q_2\n",
    "    dI = γ * E - σ * ( 1- R/N) * I - r_1 * I\n",
    "    dV = r_1 * I + r_2 * Q_2 + η_3 * Q_1 + ψ * ( 1- (R + τ * (U))/N + D/N) * S - β * δ * I/(N-Q) * V - ρ * ( 1- (R + τ * (U))/N) * V\n",
    "    \n",
    "    dL = -α * R/N * L*(1-(I+Q_2)/N) - α * U/N * L - α * D/N * L*(1+(I+Q_2)/N) + ϕ * R + ϕ * H\n",
    "\n",
    "    dU = α * U/N * L-  χ* R_G/N * U *(1-(I+Q_2)/N) - χ * D/N * U*(1+(I+Q_2)/N) - λ * U\n",
    "    dD = α * D/N * L*(1+(I+Q_2)/N) + χ * D/N * U*(1+(I+Q_2)/N) - λ * D \n",
    "    dR = α * R/N * L* (1-(I+Q_2)/N) + χ * R_G/N * U*(1-(I+Q_2)/N) - ϕ * R \n",
    "    dH = λ * D + λ * U - ϕ * H\n",
    "\n",
    "    return [dS,dE,dQ_1,dQ_2,dI,dV,dL,dU,dD,dR,dH]"
   ]
  },
  {
   "cell_type": "markdown",
   "id": "4b01cf1d",
   "metadata": {
    "pycharm": {
     "name": "#%% md\n"
    }
   },
   "source": [
    "## Initial values"
   ]
  },
  {
   "cell_type": "code",
   "execution_count": 43,
   "id": "b0fab089",
   "metadata": {
    "pycharm": {
     "name": "#%%\n"
    }
   },
   "outputs": [],
   "source": [
    "U = 140000\n",
    "D = 1400000\n",
    "R = 350000\n",
    "H = 0\n",
    "\n",
    "Q_2 = 3649881-3642450 #recovered from 12.07.-01.07\n",
    "V = 34715161\n"
   ]
  },
  {
   "cell_type": "code",
   "execution_count": 44,
   "outputs": [],
   "source": [
    "#Epidemic model\n",
    "β = 0.4\n",
    "r_1 = 0.1\n",
    "r_2 = 1/12\n",
    "γ = 1/4\n",
    "δ = 0.28\n",
    "ψ = 0.00199\n",
    "\n",
    "#Opinion model\n",
    "α = 0.071\n",
    "ϕ = 1.9685e-5\n",
    "χ = 0.0031\n",
    "λ = 4.2972e-5\n",
    "η = 1/2.5\n",
    "a = 0.8\n",
    "\n",
    "ρ1 = 1.959769532254296287e-04\n",
    "σ1 = 1.524108160070437035e-01\n",
    "τ1 = 2.954975435572986253e-01\n",
    "ρ2 = 1.282332136525898836e-03\n",
    "σ2 = 5.499123541780154278e-02\n",
    "τ2 = 5.705622081879080376e-01\n",
    "ρ3 = 7.219319175577609826e-06\n",
    "σ3 = 1.823169505631421772e-01\n",
    "τ3 = 1.327866618363038320e-04\n",
    "\n",
    "E = 1.711464626962858119e+03\n",
    "Q_1 = 9.708158050998896215e+03\n",
    "I = 9.788464694773647352e+03"
   ],
   "metadata": {
    "collapsed": false,
    "pycharm": {
     "name": "#%%\n"
    }
   }
  },
  {
   "cell_type": "code",
   "execution_count": 45,
   "outputs": [],
   "source": [
    "params = np.array([β,r_1,r_2,γ,δ,ψ,α,ϕ,χ,λ,η,a,ρ1,σ1,τ1,ρ2,σ2,τ2,ρ3,σ3,τ3,E,Q_1,Q_2,I,V,U,D,R])\n",
    "string_params = ['β','r_1','r_2','γ','δ','ψ','α','ϕ','χ','λ',\n",
    "                 'η','a','ρ1','σ1','τ1','ρ2','σ2','τ2','ρ3','σ3','τ3','E','Q_1','Q_2','I','V','U','D','R']"
   ],
   "metadata": {
    "collapsed": false,
    "pycharm": {
     "name": "#%%\n"
    }
   }
  },
  {
   "cell_type": "code",
   "execution_count": 46,
   "outputs": [],
   "source": [
    "S = 70000000 - E - Q_1 - Q_2 - I - V\n",
    "L = 70000000 - D - R - H - U\n",
    "\n",
    "x0 = [S, E, Q_1, Q_2, I, V,    #epidemics\n",
    "      L, U, D, R, H]  #opinion\n",
    "\n",
    "ts = np.linspace(0,183, 183)"
   ],
   "metadata": {
    "collapsed": false,
    "pycharm": {
     "name": "#%%\n"
    }
   }
  },
  {
   "cell_type": "code",
   "execution_count": 47,
   "outputs": [],
   "source": [
    "original = odeint(f,x0,ts)"
   ],
   "metadata": {
    "collapsed": false,
    "pycharm": {
     "name": "#%%\n"
    }
   }
  },
  {
   "cell_type": "markdown",
   "source": [
    "## Repeatedly Solve ODE with perturbed Parameters"
   ],
   "metadata": {
    "collapsed": false,
    "pycharm": {
     "name": "#%% md\n"
    }
   }
  },
  {
   "cell_type": "code",
   "execution_count": 48,
   "id": "383253a1",
   "metadata": {
    "pycharm": {
     "name": "#%%\n"
    }
   },
   "outputs": [],
   "source": [
    "def perturb_params(n, original_params, scale):\n",
    "    \n",
    "    solutions = []\n",
    "    ts = np.linspace(0,183, 183)\n",
    "\n",
    "    for i in tqdm(range(n), leave = False):\n",
    "        perturbed_params = np.random.uniform( (1-scale)*original_params, (1+scale)*original_params)\n",
    "        \n",
    "        β,r_1,r_2,γ,δ,ψ,α,ϕ,χ,λ,η,a,ρ1,σ1,τ1,ρ2,σ2,τ2,ρ3,σ3,τ3,E,Q_1,Q_2,I,V,U,D,R = perturbed_params\n",
    "        S = 70000000 - E - Q_1 - Q_2 - I - V\n",
    "        L = 70000000 - D - R - H - U\n",
    "        \n",
    "        x0 = [S, E, Q_1, Q_2, I, V,    #epidemics\n",
    "              L, U, D, R, H]  #opinion\n",
    "\n",
    "        #define function again to get new params\n",
    "        def f(x, t):\n",
    "            #times of new restrictions\n",
    "            timeslot_1 = 589 - 549\n",
    "            timeslot_2 = timeslot_1 + 689-589\n",
    "            timeslot_3 = timeslot_1+timeslot_2 + 703-689\n",
    "\n",
    "            if t<(timeslot_1):\n",
    "                ρ = ρ1\n",
    "                σ = σ1\n",
    "                τ = τ1\n",
    "            elif t>=timeslot_1 and t < timeslot_2:\n",
    "                ρ = ρ2\n",
    "                σ = σ2\n",
    "                τ = τ2\n",
    "            else:\n",
    "                ρ = ρ3\n",
    "                σ = σ3\n",
    "                τ = τ3\n",
    "\n",
    "            S,E,Q_1,Q_2,I,V,    L,U,D,R,H = x\n",
    "\n",
    "            N = S + E + Q_1 + Q_2 + I + V\n",
    "\n",
    "            Q = Q_1 + Q_2\n",
    "\n",
    "            R_G = a*R/(1+a*R)\n",
    "\n",
    "            η_1 = η * 0.897 * (S/(S+V))\n",
    "            η_2 = η * 0.103\n",
    "            η_3 = η * 0.897 * (V/(S+V))\n",
    "\n",
    "            dS = -β * I/(N-Q) * S - ψ*( 1 - (R + τ*(U))/N + D/N ) * S - ρ * (1- (R + τ * (U))/N) * S + η_1 * Q_1\n",
    "            dE = β * I/(N-Q) * S + β * δ * I/(N-Q) * V - ρ * ( 1- (R + τ * (U))/N) * E - γ * E\n",
    "            dQ_1 = ρ * ( 1- (R + τ * (U))/N) * S + ρ * ( 1- (R + τ * (U))/N) * E + ρ * ( 1- (R + τ * (U))/N) * V - η_1 * Q_1 - η_2 * Q_1 - η_3 * Q_1\n",
    "            dQ_2 = σ * ( 1- R/N) * I + η_2 * Q_1 - r_2 * Q_2\n",
    "            dI = γ * E - σ * ( 1- R/N) * I - r_1 * I\n",
    "            dV = r_1 * I + r_2 * Q_2 + η_3 * Q_1 + ψ * ( 1- (R + τ * (U))/N + D/N) * S - β * δ * I/(N-Q) * V - ρ * ( 1- (R + τ * (U))/N) * V\n",
    "\n",
    "            dL = -α * R/N * L*(1-(I+Q_2)/N) - α * U/N * L - α * D/N * L*(1+(I+Q_2)/N) + ϕ * R + ϕ * H\n",
    "\n",
    "            dU = α * U/N * L-  χ* R_G/N * U *(1-(I+Q_2)/N) - χ * D/N * U*(1+(I+Q_2)/N) - λ * U\n",
    "            dD = α * D/N * L*(1+(I+Q_2)/N) + χ * D/N * U*(1+(I+Q_2)/N) - λ * D\n",
    "            dR = α * R/N * L* (1-(I+Q_2)/N) + χ * R_G/N * U*(1-(I+Q_2)/N) - ϕ * R\n",
    "            dH = λ * D + λ * U - ϕ * H\n",
    "\n",
    "            return [dS,dE,dQ_1,dQ_2,dI,dV,dL,dU,dD,dR,dH]\n",
    "        solutions.append(odeint(f, x0, ts))\n",
    "        \n",
    "    return solutions"
   ]
  },
  {
   "cell_type": "markdown",
   "id": "a8c0c183",
   "metadata": {
    "pycharm": {
     "name": "#%% md\n"
    }
   },
   "source": [
    "# Functions for finding the minimum and maximum deviations"
   ]
  },
  {
   "cell_type": "code",
   "execution_count": 49,
   "id": "b2b6ae68",
   "metadata": {
    "pycharm": {
     "name": "#%%\n"
    }
   },
   "outputs": [],
   "source": [
    "def get_min_max_2(solutions):\n",
    "    sol_arr = np.array(solutions)\n",
    "    #get min/max solutions\n",
    "    S_max = np.amax(sol_arr, axis=0)\n",
    "    S_min = np.amin(sol_arr, axis=0)\n",
    "    #get index of min/max solutions, index is taken from the first entry, if multiple are available\n",
    "    S_max_index = np.argmax(sol_arr, axis=0)\n",
    "    S_min_index = np.argmin(sol_arr, axis=0)\n",
    "\n",
    "    return [S_max, S_min, S_max_index, S_min_index]\n"
   ]
  },
  {
   "cell_type": "code",
   "execution_count": 50,
   "id": "fd8c5747",
   "metadata": {
    "pycharm": {
     "name": "#%%\n"
    }
   },
   "outputs": [],
   "source": [
    "def find_max_min_diviation_param(sol_max, sol_min, original_curves, index_max, index_min, changed_params):\n",
    "    save_max_param_per_compartment = []\n",
    "    save_min_param_per_compartment = []\n",
    "\n",
    "    k, n = sol_max.shape\n",
    "    for i in range(n):\n",
    "        ind_max = np.argmax(sol_max[:,i]-original_curves[:,i])\n",
    "        ind_min = np.argmin(sol_min[:,i]-original_curves[:,i]) #takes the most negative one\n",
    "        save_max_param_per_compartment.append(changed_params[index_max[ind_max,i]])\n",
    "        save_min_param_per_compartment.append(changed_params[index_min[ind_min,i]])\n",
    "    return [save_max_param_per_compartment, save_min_param_per_compartment]"
   ]
  },
  {
   "cell_type": "code",
   "execution_count": 51,
   "outputs": [],
   "source": [
    "def perturb_single_param_2(n, original_params, scale, index):\n",
    "\n",
    "    mesh = np.linspace(original_params[index]*(1-scale), original_params[index]*(1+scale), n)\n",
    "    solutions = []\n",
    "    parameter_diviations = []\n",
    "    ts = np.linspace(0,183, 183)\n",
    "\n",
    "    for i in tqdm(range(n)):\n",
    "        perturbed_params = np.copy(original_params)\n",
    "        perturbed_params[index] = mesh[i]\n",
    "        parameter_diviations.append(mesh[i])\n",
    "        β,r_1,r_2,γ,δ,ψ,α,ϕ,χ,λ,η,a,ρ1,σ1,τ1,ρ2,σ2,τ2,ρ3,σ3,τ3,E,Q_1,Q_2,I,V,U,D,R = perturbed_params\n",
    "\n",
    "        S = 70000000 - E - Q_1 - Q_2 - I - V\n",
    "        L = 70000000 - D - R - H - U\n",
    "\n",
    "        x0 = [S, E, Q_1, Q_2, I, V,    #epidemics\n",
    "              L, U, D, R, H]   #opinion\n",
    "\n",
    "        #define the function anew:\n",
    "        def f(x, t):\n",
    "            #times of new restrictions\n",
    "            timeslot_1 = 589 - 549\n",
    "            timeslot_2 = timeslot_1 + 689-589\n",
    "\n",
    "            if t<(timeslot_1):\n",
    "                ρ = ρ1\n",
    "                σ = σ1\n",
    "                τ = τ1\n",
    "            elif t>=timeslot_1 and t < timeslot_2:\n",
    "                ρ = ρ2\n",
    "                σ = σ2\n",
    "                τ = τ2\n",
    "            else:\n",
    "                ρ = ρ3\n",
    "                σ = σ3\n",
    "                τ = τ3\n",
    "\n",
    "            S,E,Q_1,Q_2,I,V,    L,U,D,R,H = x\n",
    "\n",
    "            N = S + E + Q_1 + Q_2 + I + V\n",
    "\n",
    "            Q = Q_1 + Q_2\n",
    "\n",
    "            R_G = a*R/(1+a*R)\n",
    "\n",
    "            η_1 = η * 0.897 * (S/(S+V))\n",
    "            η_2 = η * 0.103\n",
    "            η_3 = η * 0.897 * (V/(S+V))\n",
    "\n",
    "            dS = -β * I/(N-Q) * S - ψ*( 1 - (R + τ*(U))/N + D/N ) * S - ρ * (1- (R + τ * (U))/N) * S + η_1 * Q_1\n",
    "            dE = β * I/(N-Q) * S + β * δ * I/(N-Q) * V - ρ * ( 1- (R + τ * (U))/N) * E - γ * E\n",
    "            dQ_1 = ρ * ( 1- (R + τ * (U))/N) * S + ρ * ( 1- (R + τ * (U))/N) * E + ρ * ( 1- (R + τ * (U))/N) * V - η_1 * Q_1 - η_2 * Q_1 - η_3 * Q_1\n",
    "            dQ_2 = σ * ( 1- R/N) * I + η_2 * Q_1 - r_2 * Q_2\n",
    "            dI = γ * E - σ * ( 1- R/N) * I - r_1 * I\n",
    "            dV = r_1 * I + r_2 * Q_2 + η_3 * Q_1 + ψ * ( 1- (R + τ * (U))/N + D/N) * S - β * δ * I/(N-Q) * V - ρ * ( 1- (R + τ * (U))/N) * V\n",
    "\n",
    "            dL = -α * R/N * L*(1-(I+Q_2)/N) - α * U/N * L - α * D/N * L*(1+(I+Q_2)/N) + ϕ * R + ϕ * H\n",
    "\n",
    "            dU = α * U/N * L-  χ* R_G/N * U *(1-(I+Q_2)/N) - χ * D/N * U*(1+(I+Q_2)/N) - λ * U\n",
    "            dD = α * D/N * L*(1+(I+Q_2)/N) + χ * D/N * U*(1+(I+Q_2)/N) - λ * D\n",
    "            dR = α * R/N * L* (1-(I+Q_2)/N) + χ * R_G/N * U*(1-(I+Q_2)/N) - ϕ * R\n",
    "            dH = λ * D + λ * U - ϕ * H\n",
    "\n",
    "            return [dS,dE,dQ_1,dQ_2,dI,dV,dL,dU,dD,dR,dH]\n",
    "\n",
    "\n",
    "\n",
    "        solutions.append(odeint(f, x0, ts))\n",
    "\n",
    "    return solutions, parameter_diviations"
   ],
   "metadata": {
    "collapsed": false,
    "pycharm": {
     "name": "#%%\n"
    }
   }
  },
  {
   "cell_type": "markdown",
   "source": [
    "# Functions for an automatic plot"
   ],
   "metadata": {
    "collapsed": false,
    "pycharm": {
     "name": "#%% md\n"
    }
   }
  },
  {
   "cell_type": "code",
   "execution_count": 52,
   "outputs": [],
   "source": [
    "def plot_compartments_2(original_curves, perturbed_params,  single_solution, string_params, index, file_specific_range = False):\n",
    "    compartment_names = ['S', 'E', '$Q_1$', '$Q_2$', 'I', 'V',    #epidemics\n",
    "                         'L', 'U', 'D', 'R', 'H']\n",
    "    S_max, S_min, S_max_index, S_min_index = get_min_max_2(single_solution)\n",
    "    max_params_per_comp, min_params_per_comp = find_max_min_diviation_param(S_max, S_min, original, S_max_index, S_min_index, perturbed_params)\n",
    "\n",
    "\n",
    "    #Epidemie\n",
    "    figure, axis = plt.subplots(6, 1)\n",
    "    plt.rcParams[\"figure.figsize\"] = (25/2,25/2)\n",
    "    for i in range(6):\n",
    "        axis[i].plot(ts, S_max[:,i], color = 'r')\n",
    "        axis[i].plot(ts, original_curves[:,i], color = 'g')\n",
    "        axis[i].plot(ts, S_min[:,i], color = 'b')\n",
    "        axis[i].legend(['max ' + string_params[index] +': ' + str(max_params_per_comp[i]),\n",
    "                        'original ' + string_params[index]+': '+ str(params[index]) ,\n",
    "                        'min ' + string_params[index] +': '+ str(min_params_per_comp[i])])\n",
    "        axis[i].set_title(compartment_names[i], fontsize = 16)\n",
    "\n",
    "    if file_specific_range == True:\n",
    "        figure.savefig('perturb_specific_range/epidemic_plot_' + string_params[index] +\n",
    "                       '_perturbed.jpg',bbox_inches = 'tight', dpi=500)\n",
    "    else:\n",
    "        figure.savefig('perturbed_compartment_plots/epidemic_plot_' + string_params[index] +\n",
    "                       '_perturbed.jpg',bbox_inches = 'tight', dpi=500)\n",
    "\n",
    "    plt.close(figure)\n",
    "    plt.close('all')\n",
    "\n",
    "    #Opinion\n",
    "    figure, axis = plt.subplots(5, 1)\n",
    "    plt.rcParams[\"figure.figsize\"] = (25/2,25/2)\n",
    "    for i in range(6,11):\n",
    "        axis[i-6].plot(ts, S_max[:,i], color = 'r')\n",
    "        axis[i-6].plot(ts, original_curves[:,i], color = 'g')\n",
    "        axis[i-6].plot(ts, S_min[:,i], color = 'b')\n",
    "        axis[i-6].legend(['max ' + string_params[index] +': ' + str(max_params_per_comp[i]),\n",
    "                        'original ' + string_params[index]+': '+ str(params[index]) ,\n",
    "                        'min ' + string_params[index] +': '+ str(min_params_per_comp[i])])\n",
    "        axis[i-6].set_title(compartment_names[i], fontsize = 16)\n",
    "\n",
    "    if file_specific_range == True:\n",
    "        figure.savefig('perturb_specific_range/opinion_plot_' + string_params[index] +\n",
    "                       '_perturbed.jpg',bbox_inches = 'tight', dpi=500)\n",
    "    else:\n",
    "        figure.savefig('perturbed_compartment_plots/opinion_plot_' + string_params[index] +\n",
    "                       '_perturbed.jpg', bbox_inches = 'tight', dpi=500)\n",
    "    plt.close(figure)\n",
    "    plt.close('all')"
   ],
   "metadata": {
    "collapsed": false,
    "pycharm": {
     "name": "#%%\n"
    }
   }
  },
  {
   "cell_type": "code",
   "execution_count": 53,
   "outputs": [],
   "source": [
    "def plot_compartments_all(original_curves, single_solution, string_params, index, file_specific_range = False):\n",
    "    compartment_names = ['S', 'E', '$Q_1$', '$Q_2$', 'I', 'V',    #epidemics\n",
    "                         'L', 'U', 'D', 'R', 'H']\n",
    "\n",
    "    S_max, S_min, S_max_index, S_min_index = get_min_max_2(single_solution)\n",
    "\n",
    "    #Epidemie\n",
    "    figure, axis = plt.subplots(6, 1)\n",
    "    plt.rcParams[\"figure.figsize\"] = (25/2,25/2)\n",
    "    for i in range(6):\n",
    "        axis[i].plot(ts, S_max[:,i], color = 'r')\n",
    "        axis[i].plot(ts, original_curves[:,i], color = 'g')\n",
    "        axis[i].plot(ts, S_min[:,i], color = 'b')\n",
    "        axis[i].legend(['max','original','min'])\n",
    "        axis[i].set_title(compartment_names[i], fontsize = 16)\n",
    "\n",
    "    figure.savefig('perturbed_compartment_plots/epidemic_plot_' + string_params[index] +\n",
    "                   '_perturbed.jpg', bbox_inches='tight', dpi=500)\n",
    "    plt.close(figure)\n",
    "    plt.close('all')\n",
    "\n",
    "    #Opinion\n",
    "    figure, axis = plt.subplots(5, 1)\n",
    "    plt.rcParams[\"figure.figsize\"] = (25/2,25/2)\n",
    "    for i in range(6,11):\n",
    "        axis[i-6].plot(ts, S_max[:,i], color = 'r')\n",
    "        axis[i-6].plot(ts, original_curves[:,i], color = 'g')\n",
    "        axis[i-6].plot(ts, S_min[:,i], color = 'b')\n",
    "        axis[i-6].legend(['max','original','min'])\n",
    "        axis[i-6].set_title(compartment_names[i], fontsize = 16)\n",
    "\n",
    "    figure.savefig('perturbed_compartment_plots/opinion_plot_' + string_params[index] +\n",
    "                   '_perturbed.jpg', bbox_inches='tight', dpi=500)\n",
    "    plt.close(figure)\n",
    "    plt.close('all')\n",
    "\n",
    "\n",
    "    #Only for the report\n",
    "\n",
    "    #plt.figure(figsize=(8.46, 4.7))\n",
    "    #plt.plot(ts, S_max[:,3], color = 'r')\n",
    "    #plt.plot(ts, original_curves[:,3], color = 'g')\n",
    "    #plt.plot(ts, S_min[:,i], color = 'b')\n",
    "    #plt.xlabel(\"t in days\")\n",
    "    #plt.title(\"Sensitivity of compartment $Q_2$\",fontsize = 16)\n",
    "    #plt.legend(['max','original','min'])\n",
    "    #plt.savefig('perturbed_compartment_plots/Simulation_sensitivity_all_perturbed_Q_2.jpg', bbox_inches = 'tight', dpi = 500)\n",
    "    #plt.close(figure)\n",
    "    #plt.close('all')"
   ],
   "metadata": {
    "collapsed": false,
    "pycharm": {
     "name": "#%%\n"
    }
   }
  },
  {
   "cell_type": "markdown",
   "source": [
    "# Functions for calculating and ordering the two sensitivity measures"
   ],
   "metadata": {
    "collapsed": false,
    "pycharm": {
     "name": "#%% md\n"
    }
   }
  },
  {
   "cell_type": "code",
   "execution_count": 54,
   "outputs": [],
   "source": [
    "'''\n",
    "The Sensitivity measure in this function is defined as follows:\n",
    "- the sensitivity is calculated by adding up the difference between the maximal and minimal values of each curve\n",
    "- here the maximum deviation between all compartments and one compartment alone is calculated\n",
    "\n",
    "Input:\n",
    "- list_of_matrices, where len(list_of_matrices) = #Parameter and each matrix has the dimension D = 180x11, t x #compartments\n",
    "- list_of_matrices already consists of the difference between the largest and smalles diviation:  S_max - Smin\n",
    "\n",
    "- list_of_parameters is a list of strings with the parameters\n",
    "\n",
    "Output:\n",
    "- largest_diviation_param: list of parameters which caused the largest diviation in the sum over all timepoints t\n",
    "'''\n",
    "\n",
    "def find_most_sensitive_parameter(list_of_matrices,list_of_parameters):\n",
    "    n = len(list_of_matrices) #this corresponds to the number of parameters\n",
    "\n",
    "\n",
    "    #Calculate Sensitivity by adding up all differences of the min and max curves\n",
    "    vector_rowSum = []\n",
    "    sum_all_compartments = []\n",
    "    for i in range(n):\n",
    "        A = np.matrix(np.copy(list_of_matrices[i]))\n",
    "        v = A.sum(axis=0)\n",
    "        deviation_all_compartments = np.sum(v)\n",
    "        vector_rowSum.append(deviation_all_compartments)\n",
    "        sum_all_compartments.append(v)\n",
    "    #we want a list of all parameters and their sensitivity value\n",
    "    ordered_by_sensitivity = []\n",
    "    #if the largest value is recorded, then the value is set to -1, to get the second biggest value.\n",
    "    for i in range(len(vector_rowSum)):\n",
    "        k = np.argmax(vector_rowSum)\n",
    "        value, name = vector_rowSum[k]/183, list_of_parameters[k]\n",
    "        ordered_by_sensitivity.append([name, value])\n",
    "        #the second largest. All values in these matrices are positive, so we simply put it to -1\n",
    "        vector_rowSum[k] = -1\n",
    "\n",
    "\n",
    "    return ordered_by_sensitivity\n"
   ],
   "metadata": {
    "collapsed": false,
    "pycharm": {
     "name": "#%%\n"
    }
   }
  },
  {
   "cell_type": "code",
   "execution_count": 55,
   "outputs": [],
   "source": [
    "def find_most_sensitive_parameter_on_I(list_of_matrices,list_of_parameters):\n",
    "    n = len(list_of_matrices) #this corresponds to the number of parameters\n",
    "    #Calculate Sensitivity by adding up all differences of the min and max curves\n",
    "    compartment_I = []\n",
    "    for i in range(n):\n",
    "        A = np.matrix(np.copy(list_of_matrices[i]))\n",
    "        v = A.sum(axis=0)\n",
    "        compartment_I.append(v[0,4])\n",
    "    #we want a list of all parameters and their sensitivity value\n",
    "    ordered_by_sensitivity = []\n",
    "    #if the largest value is recorded, then the value is set to -1, to get the second biggest value.\n",
    "    for i in range(n):\n",
    "        k = np.argmax(compartment_I)\n",
    "        value, name = compartment_I[k]/183, list_of_parameters[k]\n",
    "        ordered_by_sensitivity.append([name, value])\n",
    "        #the second largest. All values in these matrices are positive, so we simply put it to -1\n",
    "        compartment_I[k] = -1\n",
    "    return ordered_by_sensitivity"
   ],
   "metadata": {
    "collapsed": false,
    "pycharm": {
     "name": "#%%\n"
    }
   }
  },
  {
   "cell_type": "markdown",
   "source": [
    "# Plot all curves and calculate the sensitivity\n",
    "\n",
    "## You need a folder with the name: \"perturbed_compartment_plots\" in your path"
   ],
   "metadata": {
    "collapsed": false,
    "pycharm": {
     "name": "#%% md\n"
    }
   }
  },
  {
   "cell_type": "code",
   "execution_count": 56,
   "outputs": [],
   "source": [
    "def plot_all_sensitivity_with_params(original_curves, params, string_params, n_perturb, perturb_scale):\n",
    "\n",
    "    list_of_maxMinusmin = []\n",
    "    for i in range(len(params)):\n",
    "        single_perturbed_sol, parameter_perturbed = perturb_single_param_2(n_perturb, params, perturb_scale, i)\n",
    "        S_max, S_min, S_max_index, S_min_index = get_min_max_2(single_perturbed_sol)\n",
    "        list_of_maxMinusmin.append(S_max-S_min)\n",
    "        plot_compartments_2(original_curves, parameter_perturbed, single_perturbed_sol, string_params, i)\n",
    "        print('Done with parameter ' + string_params[i])\n",
    "\n",
    "    #calculate the min/ max diviation quantitatively\n",
    "    print('Ordered from largest to smallest influence overall')\n",
    "    all_params_ordered_by_sensitivity = find_most_sensitive_parameter(list_of_maxMinusmin, string_params)\n",
    "    df = pd.DataFrame(all_params_ordered_by_sensitivity, columns=['param_name', 'value'])\n",
    "    df.to_csv('all_params_ordered_by_sensitivity.csv')\n",
    "    print(df)\n",
    "\n",
    "    #calculate the min/max diviation of I quantitatively\n",
    "    print('Ordered from largest to smallest influence on I')\n",
    "    all_params_ordered_by_sensitivity = find_most_sensitive_parameter_on_I(list_of_maxMinusmin, string_params)\n",
    "    df = pd.DataFrame(all_params_ordered_by_sensitivity, columns=['param_name', 'value'])\n",
    "    df.to_csv('all_params_ordered_by_sensitivity_influence_on_I.csv')\n",
    "    print(df)\n",
    "\n",
    "\n",
    "    #add plot: all params are perturbed\n",
    "    all_perturbed = perturb_params(n_perturb, params, perturb_scale)\n",
    "    plot_compartments_all(original_curves,  all_perturbed, ['all'],0)\n",
    "    print('All parameters were perturbed. The computation is done.')"
   ],
   "metadata": {
    "collapsed": false,
    "pycharm": {
     "name": "#%%\n"
    }
   }
  },
  {
   "cell_type": "markdown",
   "source": [
    "# Perform perturbation and sensitivity analysis\n",
    "\n",
    "The calculations and plots are carried out automatically.\n",
    "\n",
    "The plots are saved in \"perturbed_compartment_plots\".\n",
    "The results of the sensitivity analysis is stored in two files:\n",
    "1. all_params_ordered_by_sensitivity.csv\n",
    "2. all_params_ordered_by_sensitivity_influence_on_I.csv"
   ],
   "metadata": {
    "collapsed": false,
    "pycharm": {
     "name": "#%% md\n"
    }
   }
  },
  {
   "cell_type": "code",
   "execution_count": 57,
   "outputs": [
    {
     "data": {
      "text/plain": "HBox(children=(FloatProgress(value=0.0, max=10.0), HTML(value='')))",
      "application/vnd.jupyter.widget-view+json": {
       "version_major": 2,
       "version_minor": 0,
       "model_id": "78b03ffc6e2945b7a7483ba6650f74e2"
      }
     },
     "metadata": {},
     "output_type": "display_data"
    },
    {
     "name": "stdout",
     "output_type": "stream",
     "text": [
      "\n",
      "Done with parameter β\n"
     ]
    },
    {
     "data": {
      "text/plain": "HBox(children=(FloatProgress(value=0.0, max=10.0), HTML(value='')))",
      "application/vnd.jupyter.widget-view+json": {
       "version_major": 2,
       "version_minor": 0,
       "model_id": "ce357b6715a34e0fb7f4fedc08c38ae5"
      }
     },
     "metadata": {},
     "output_type": "display_data"
    },
    {
     "name": "stdout",
     "output_type": "stream",
     "text": [
      "\n",
      "Done with parameter r_1\n"
     ]
    },
    {
     "data": {
      "text/plain": "HBox(children=(FloatProgress(value=0.0, max=10.0), HTML(value='')))",
      "application/vnd.jupyter.widget-view+json": {
       "version_major": 2,
       "version_minor": 0,
       "model_id": "5ffa20390d6f49d7ae07a6f3947deaa4"
      }
     },
     "metadata": {},
     "output_type": "display_data"
    },
    {
     "name": "stdout",
     "output_type": "stream",
     "text": [
      "\n",
      "Done with parameter r_2\n"
     ]
    },
    {
     "data": {
      "text/plain": "HBox(children=(FloatProgress(value=0.0, max=10.0), HTML(value='')))",
      "application/vnd.jupyter.widget-view+json": {
       "version_major": 2,
       "version_minor": 0,
       "model_id": "931e30036a964263b95da1fe5a18799d"
      }
     },
     "metadata": {},
     "output_type": "display_data"
    },
    {
     "name": "stdout",
     "output_type": "stream",
     "text": [
      "\n",
      "Done with parameter γ\n"
     ]
    },
    {
     "data": {
      "text/plain": "HBox(children=(FloatProgress(value=0.0, max=10.0), HTML(value='')))",
      "application/vnd.jupyter.widget-view+json": {
       "version_major": 2,
       "version_minor": 0,
       "model_id": "efc95871a33a4eaa9c4a945d7b86c289"
      }
     },
     "metadata": {},
     "output_type": "display_data"
    },
    {
     "name": "stdout",
     "output_type": "stream",
     "text": [
      "\n",
      "Done with parameter δ\n"
     ]
    },
    {
     "data": {
      "text/plain": "HBox(children=(FloatProgress(value=0.0, max=10.0), HTML(value='')))",
      "application/vnd.jupyter.widget-view+json": {
       "version_major": 2,
       "version_minor": 0,
       "model_id": "1e349b660ffe4586aec217c105b82ee6"
      }
     },
     "metadata": {},
     "output_type": "display_data"
    },
    {
     "name": "stdout",
     "output_type": "stream",
     "text": [
      "\n",
      "Done with parameter ψ\n"
     ]
    },
    {
     "data": {
      "text/plain": "HBox(children=(FloatProgress(value=0.0, max=10.0), HTML(value='')))",
      "application/vnd.jupyter.widget-view+json": {
       "version_major": 2,
       "version_minor": 0,
       "model_id": "6ea667a793274bed95bd81c6dcdf2e77"
      }
     },
     "metadata": {},
     "output_type": "display_data"
    },
    {
     "name": "stdout",
     "output_type": "stream",
     "text": [
      "\n",
      "Done with parameter α\n"
     ]
    },
    {
     "data": {
      "text/plain": "HBox(children=(FloatProgress(value=0.0, max=10.0), HTML(value='')))",
      "application/vnd.jupyter.widget-view+json": {
       "version_major": 2,
       "version_minor": 0,
       "model_id": "e4617c423b714aaa92afb4e4933e7bf9"
      }
     },
     "metadata": {},
     "output_type": "display_data"
    },
    {
     "name": "stdout",
     "output_type": "stream",
     "text": [
      "\n",
      "Done with parameter ϕ\n"
     ]
    },
    {
     "data": {
      "text/plain": "HBox(children=(FloatProgress(value=0.0, max=10.0), HTML(value='')))",
      "application/vnd.jupyter.widget-view+json": {
       "version_major": 2,
       "version_minor": 0,
       "model_id": "a792a20af3684ab1993c6da2cb502478"
      }
     },
     "metadata": {},
     "output_type": "display_data"
    },
    {
     "name": "stdout",
     "output_type": "stream",
     "text": [
      "\n",
      "Done with parameter χ\n"
     ]
    },
    {
     "data": {
      "text/plain": "HBox(children=(FloatProgress(value=0.0, max=10.0), HTML(value='')))",
      "application/vnd.jupyter.widget-view+json": {
       "version_major": 2,
       "version_minor": 0,
       "model_id": "76077d58de15444aa3d9fb0c7fb76873"
      }
     },
     "metadata": {},
     "output_type": "display_data"
    },
    {
     "name": "stdout",
     "output_type": "stream",
     "text": [
      "\n",
      "Done with parameter λ\n"
     ]
    },
    {
     "data": {
      "text/plain": "HBox(children=(FloatProgress(value=0.0, max=10.0), HTML(value='')))",
      "application/vnd.jupyter.widget-view+json": {
       "version_major": 2,
       "version_minor": 0,
       "model_id": "c4d0829e1c7d4061b8aec7e138e5b49e"
      }
     },
     "metadata": {},
     "output_type": "display_data"
    },
    {
     "name": "stdout",
     "output_type": "stream",
     "text": [
      "\n",
      "Done with parameter η\n"
     ]
    },
    {
     "data": {
      "text/plain": "HBox(children=(FloatProgress(value=0.0, max=10.0), HTML(value='')))",
      "application/vnd.jupyter.widget-view+json": {
       "version_major": 2,
       "version_minor": 0,
       "model_id": "917bc1fa90304f31803206d016ac9381"
      }
     },
     "metadata": {},
     "output_type": "display_data"
    },
    {
     "name": "stdout",
     "output_type": "stream",
     "text": [
      "\n",
      "Done with parameter a\n"
     ]
    },
    {
     "data": {
      "text/plain": "HBox(children=(FloatProgress(value=0.0, max=10.0), HTML(value='')))",
      "application/vnd.jupyter.widget-view+json": {
       "version_major": 2,
       "version_minor": 0,
       "model_id": "95c17e15cb4043f09832bec3c387102e"
      }
     },
     "metadata": {},
     "output_type": "display_data"
    },
    {
     "name": "stdout",
     "output_type": "stream",
     "text": [
      "\n",
      "Done with parameter ρ1\n"
     ]
    },
    {
     "data": {
      "text/plain": "HBox(children=(FloatProgress(value=0.0, max=10.0), HTML(value='')))",
      "application/vnd.jupyter.widget-view+json": {
       "version_major": 2,
       "version_minor": 0,
       "model_id": "2ac591c704594d04ae2cee6b1c3bb943"
      }
     },
     "metadata": {},
     "output_type": "display_data"
    },
    {
     "name": "stdout",
     "output_type": "stream",
     "text": [
      "\n",
      "Done with parameter σ1\n"
     ]
    },
    {
     "data": {
      "text/plain": "HBox(children=(FloatProgress(value=0.0, max=10.0), HTML(value='')))",
      "application/vnd.jupyter.widget-view+json": {
       "version_major": 2,
       "version_minor": 0,
       "model_id": "deac1e04e31d4115b4aab8a8b8742292"
      }
     },
     "metadata": {},
     "output_type": "display_data"
    },
    {
     "name": "stdout",
     "output_type": "stream",
     "text": [
      "\n",
      "Done with parameter τ1\n"
     ]
    },
    {
     "data": {
      "text/plain": "HBox(children=(FloatProgress(value=0.0, max=10.0), HTML(value='')))",
      "application/vnd.jupyter.widget-view+json": {
       "version_major": 2,
       "version_minor": 0,
       "model_id": "c1817ffcb3a4493cbfb28a9e53fd0a39"
      }
     },
     "metadata": {},
     "output_type": "display_data"
    },
    {
     "name": "stdout",
     "output_type": "stream",
     "text": [
      "\n",
      "Done with parameter ρ2\n"
     ]
    },
    {
     "data": {
      "text/plain": "HBox(children=(FloatProgress(value=0.0, max=10.0), HTML(value='')))",
      "application/vnd.jupyter.widget-view+json": {
       "version_major": 2,
       "version_minor": 0,
       "model_id": "c560485e54434d2ca08435a88e233fb4"
      }
     },
     "metadata": {},
     "output_type": "display_data"
    },
    {
     "name": "stdout",
     "output_type": "stream",
     "text": [
      "\n",
      "Done with parameter σ2\n"
     ]
    },
    {
     "data": {
      "text/plain": "HBox(children=(FloatProgress(value=0.0, max=10.0), HTML(value='')))",
      "application/vnd.jupyter.widget-view+json": {
       "version_major": 2,
       "version_minor": 0,
       "model_id": "2895cd8d788745508d591fa6b57c1994"
      }
     },
     "metadata": {},
     "output_type": "display_data"
    },
    {
     "name": "stdout",
     "output_type": "stream",
     "text": [
      "\n",
      "Done with parameter τ2\n"
     ]
    },
    {
     "data": {
      "text/plain": "HBox(children=(FloatProgress(value=0.0, max=10.0), HTML(value='')))",
      "application/vnd.jupyter.widget-view+json": {
       "version_major": 2,
       "version_minor": 0,
       "model_id": "57838e7260144e24928b8a727b676175"
      }
     },
     "metadata": {},
     "output_type": "display_data"
    },
    {
     "name": "stdout",
     "output_type": "stream",
     "text": [
      "\n",
      "Done with parameter ρ3\n"
     ]
    },
    {
     "data": {
      "text/plain": "HBox(children=(FloatProgress(value=0.0, max=10.0), HTML(value='')))",
      "application/vnd.jupyter.widget-view+json": {
       "version_major": 2,
       "version_minor": 0,
       "model_id": "d51031a2b3e04842a9984d18dfa1d918"
      }
     },
     "metadata": {},
     "output_type": "display_data"
    },
    {
     "name": "stdout",
     "output_type": "stream",
     "text": [
      "\n",
      "Done with parameter σ3\n"
     ]
    },
    {
     "data": {
      "text/plain": "HBox(children=(FloatProgress(value=0.0, max=10.0), HTML(value='')))",
      "application/vnd.jupyter.widget-view+json": {
       "version_major": 2,
       "version_minor": 0,
       "model_id": "178931c6e91442be8c5fa3c626dda3c9"
      }
     },
     "metadata": {},
     "output_type": "display_data"
    },
    {
     "name": "stdout",
     "output_type": "stream",
     "text": [
      "\n",
      "Done with parameter τ3\n"
     ]
    },
    {
     "data": {
      "text/plain": "HBox(children=(FloatProgress(value=0.0, max=10.0), HTML(value='')))",
      "application/vnd.jupyter.widget-view+json": {
       "version_major": 2,
       "version_minor": 0,
       "model_id": "1b1c995f8e9748e1a84b56f9815412c0"
      }
     },
     "metadata": {},
     "output_type": "display_data"
    },
    {
     "name": "stdout",
     "output_type": "stream",
     "text": [
      "\n",
      "Done with parameter E\n"
     ]
    },
    {
     "data": {
      "text/plain": "HBox(children=(FloatProgress(value=0.0, max=10.0), HTML(value='')))",
      "application/vnd.jupyter.widget-view+json": {
       "version_major": 2,
       "version_minor": 0,
       "model_id": "e9d412359a34409889eab7140b0ad165"
      }
     },
     "metadata": {},
     "output_type": "display_data"
    },
    {
     "name": "stdout",
     "output_type": "stream",
     "text": [
      "\n",
      "Done with parameter Q_1\n"
     ]
    },
    {
     "data": {
      "text/plain": "HBox(children=(FloatProgress(value=0.0, max=10.0), HTML(value='')))",
      "application/vnd.jupyter.widget-view+json": {
       "version_major": 2,
       "version_minor": 0,
       "model_id": "87c9894f4d0c474ca51e178e58185dc3"
      }
     },
     "metadata": {},
     "output_type": "display_data"
    },
    {
     "name": "stdout",
     "output_type": "stream",
     "text": [
      "\n",
      "Done with parameter Q_2\n"
     ]
    },
    {
     "data": {
      "text/plain": "HBox(children=(FloatProgress(value=0.0, max=10.0), HTML(value='')))",
      "application/vnd.jupyter.widget-view+json": {
       "version_major": 2,
       "version_minor": 0,
       "model_id": "59846b048d604612895a5a1c4aa13b54"
      }
     },
     "metadata": {},
     "output_type": "display_data"
    },
    {
     "name": "stdout",
     "output_type": "stream",
     "text": [
      "\n",
      "Done with parameter I\n"
     ]
    },
    {
     "data": {
      "text/plain": "HBox(children=(FloatProgress(value=0.0, max=10.0), HTML(value='')))",
      "application/vnd.jupyter.widget-view+json": {
       "version_major": 2,
       "version_minor": 0,
       "model_id": "a036c80a74564a58a3f2d5599479c5ce"
      }
     },
     "metadata": {},
     "output_type": "display_data"
    },
    {
     "name": "stdout",
     "output_type": "stream",
     "text": [
      "\n",
      "Done with parameter V\n"
     ]
    },
    {
     "data": {
      "text/plain": "HBox(children=(FloatProgress(value=0.0, max=10.0), HTML(value='')))",
      "application/vnd.jupyter.widget-view+json": {
       "version_major": 2,
       "version_minor": 0,
       "model_id": "d44393b618f9469091a52f5ecb466254"
      }
     },
     "metadata": {},
     "output_type": "display_data"
    },
    {
     "name": "stdout",
     "output_type": "stream",
     "text": [
      "\n",
      "Done with parameter U\n"
     ]
    },
    {
     "data": {
      "text/plain": "HBox(children=(FloatProgress(value=0.0, max=10.0), HTML(value='')))",
      "application/vnd.jupyter.widget-view+json": {
       "version_major": 2,
       "version_minor": 0,
       "model_id": "ef872d2d6f9749538fb758c6ad2dbb4a"
      }
     },
     "metadata": {},
     "output_type": "display_data"
    },
    {
     "name": "stdout",
     "output_type": "stream",
     "text": [
      "\n",
      "Done with parameter D\n"
     ]
    },
    {
     "data": {
      "text/plain": "HBox(children=(FloatProgress(value=0.0, max=10.0), HTML(value='')))",
      "application/vnd.jupyter.widget-view+json": {
       "version_major": 2,
       "version_minor": 0,
       "model_id": "ce4a3e783b944ecd8f8901e3fb7344e6"
      }
     },
     "metadata": {},
     "output_type": "display_data"
    },
    {
     "name": "stdout",
     "output_type": "stream",
     "text": [
      "\n",
      "Done with parameter R\n",
      "Ordered from largest to smallest influence overall\n",
      "   param_name         value\n",
      "0           V  4.862335e+06\n",
      "1           α  4.108969e+06\n",
      "2           D  2.654314e+06\n",
      "3           β  2.576970e+06\n",
      "4           R  1.652148e+06\n",
      "5         r_1  1.155673e+06\n",
      "6           ψ  1.048304e+06\n",
      "7           U  6.325731e+05\n",
      "8           δ  6.309630e+05\n",
      "9          σ1  5.078092e+05\n",
      "10         σ2  3.612057e+05\n",
      "11          γ  3.019021e+05\n",
      "12          I  1.438807e+05\n",
      "13          χ  9.827398e+04\n",
      "14         σ3  4.771310e+04\n",
      "15        r_2  3.986679e+04\n",
      "16         ρ2  3.729065e+04\n",
      "17          λ  2.955796e+04\n",
      "18          E  2.478856e+04\n",
      "19          η  2.202553e+04\n",
      "20         τ2  1.448022e+04\n",
      "21         ρ1  6.411979e+03\n",
      "22          ϕ  3.731541e+03\n",
      "23        Q_2  1.366179e+03\n",
      "24         τ1  8.924536e+02\n",
      "25        Q_1  7.974841e+02\n",
      "26         ρ3  6.070260e+01\n",
      "27         τ3  3.025673e-01\n",
      "28          a  5.895875e-02\n",
      "Ordered from largest to smallest influence on I\n",
      "   param_name          value\n",
      "0           β  229301.500825\n",
      "1           V  114517.117244\n",
      "2         r_1  111236.740264\n",
      "3           δ   62423.527165\n",
      "4          σ1   41675.383975\n",
      "5          σ2   34721.275905\n",
      "6           γ   26896.239174\n",
      "7           ψ   18434.550929\n",
      "8           I   11393.509859\n",
      "9          σ3   10389.770216\n",
      "10          R    9878.963865\n",
      "11          D    9038.841151\n",
      "12          α    2034.813076\n",
      "13          E    1971.741465\n",
      "14         ρ2     824.750415\n",
      "15         τ2     242.224454\n",
      "16          U     188.803655\n",
      "17         ρ1     122.089266\n",
      "18        r_2     112.813629\n",
      "19          χ      47.932622\n",
      "20        Q_2      24.466692\n",
      "21          λ      23.858774\n",
      "22         τ1      19.704185\n",
      "23          ϕ      18.791425\n",
      "24        Q_1      17.344707\n",
      "25          η      15.868674\n",
      "26         ρ3       0.330297\n",
      "27          a       0.001168\n",
      "28         τ3       0.000974\n"
     ]
    },
    {
     "data": {
      "text/plain": "HBox(children=(FloatProgress(value=0.0, max=10.0), HTML(value='')))",
      "application/vnd.jupyter.widget-view+json": {
       "version_major": 2,
       "version_minor": 0,
       "model_id": "9726565072cf443a863c7f1639263f31"
      }
     },
     "metadata": {},
     "output_type": "display_data"
    },
    {
     "name": "stdout",
     "output_type": "stream",
     "text": [
      "All parameters were perturbed. The computation is done.\n"
     ]
    }
   ],
   "source": [
    "#plot_all_sensitivity_with_params(original, params, string_params,10, 0.05)"
   ],
   "metadata": {
    "collapsed": false,
    "pycharm": {
     "name": "#%%\n"
    }
   }
  },
  {
   "cell_type": "markdown",
   "source": [
    "# Specific range perturbation from Boxplots\n",
    "## You need a folder with the name: \"perturb_specific_range\" in your path"
   ],
   "metadata": {
    "collapsed": false,
    "pycharm": {
     "name": "#%% md\n"
    }
   }
  },
  {
   "cell_type": "code",
   "execution_count": 58,
   "outputs": [],
   "source": [
    "def perturb_single_param_specific_range(n, original_params, upper_bound, lower_bound, index):\n",
    "\n",
    "    mesh = np.linspace(upper_bound, lower_bound, n)\n",
    "    solutions = []\n",
    "    parameter_diviations = []\n",
    "    ts = np.linspace(0,183, 183)\n",
    "\n",
    "    for i in tqdm(range(n)):\n",
    "        perturbed_params = np.copy(original_params)\n",
    "        perturbed_params[index] = mesh[i]\n",
    "        parameter_diviations.append(mesh[i])\n",
    "        β,r_1,r_2,γ,δ,ψ,α,ϕ,χ,λ,η,a,ρ1,σ1,τ1,ρ2,σ2,τ2,ρ3,σ3,τ3,E,Q_1,Q_2,I,V,U,D,R = perturbed_params\n",
    "\n",
    "        S = 70000000 - E - Q_1 - Q_2 - I - V\n",
    "        L = 70000000 - D - R - H - U\n",
    "\n",
    "        x0 = [S, E, Q_1, Q_2, I, V,    #epidemics\n",
    "              L, U, D, R, H]   #opinion\n",
    "\n",
    "        #define the function anew:\n",
    "        def f_loc(x, t):\n",
    "            #times of new restrictions\n",
    "            timeslot_1 = 589 - 549\n",
    "            timeslot_2 = timeslot_1 + 689-589\n",
    "            timeslot_3 = timeslot_1+timeslot_2 + 703-689\n",
    "\n",
    "            if t<(timeslot_1):\n",
    "                ρ = ρ1\n",
    "                σ = σ1\n",
    "                τ = τ1\n",
    "            elif t>=timeslot_1 and t < timeslot_2:\n",
    "                ρ = ρ2\n",
    "                σ = σ2\n",
    "                τ = τ2\n",
    "            else:\n",
    "                ρ = ρ3\n",
    "                σ = σ3\n",
    "                τ = τ3\n",
    "\n",
    "            S,E,Q_1,Q_2,I,V,    L,U,D,R,H = x\n",
    "\n",
    "            N = S + E + Q_1 + Q_2 + I + V\n",
    "\n",
    "            Q = Q_1 + Q_2\n",
    "\n",
    "            R_G = a*R/(1+a*R)\n",
    "\n",
    "            η_1 = η * 0.897 * (S/(S+V))\n",
    "            η_2 = η * 0.103\n",
    "            η_3 = η * 0.897 * (V/(S+V))\n",
    "\n",
    "            dS = -β * I/(N-Q) * S - ψ*( 1 - (R + τ*(U))/N + D/N ) * S - ρ * (1- (R + τ * (U))/N) * S + η_1 * Q_1\n",
    "            dE = β * I/(N-Q) * S + β * δ * I/(N-Q) * V - ρ * ( 1- (R + τ * (U))/N) * E - γ * E\n",
    "            dQ_1 = ρ * ( 1- (R + τ * (U))/N) * S + ρ * ( 1- (R + τ * (U))/N) * E + ρ * ( 1- (R + τ * (U))/N) * V - η_1 * Q_1 - η_2 * Q_1 - η_3 * Q_1\n",
    "            dQ_2 = σ * ( 1- R/N) * I + η_2 * Q_1 - r_2 * Q_2\n",
    "            dI = γ * E - σ * ( 1- R/N) * I - r_1 * I\n",
    "            dV = r_1 * I + r_2 * Q_2 + η_3 * Q_1 + ψ * ( 1- (R + τ * (U))/N + D/N) * S - β * δ * I/(N-Q) * V - ρ * ( 1- (R + τ * (U))/N) * V\n",
    "\n",
    "            dL = -α * R/N * L*(1-(I+Q_2)/N) - α * U/N * L - α * D/N * L*(1+(I+Q_2)/N) + ϕ * R + ϕ * H\n",
    "\n",
    "            dU = α * U/N * L-  χ* R_G/N * U *(1-(I+Q_2)/N) - χ * D/N * U*(1+(I+Q_2)/N) - λ * U\n",
    "            dD = α * D/N * L*(1+(I+Q_2)/N) + χ * D/N * U*(1+(I+Q_2)/N) - λ * D\n",
    "            dR = α * R/N * L* (1-(I+Q_2)/N) + χ * R_G/N * U*(1-(I+Q_2)/N) - ϕ * R\n",
    "            dH = λ * D + λ * U - ϕ * H\n",
    "\n",
    "            return [dS,dE,dQ_1,dQ_2,dI,dV,dL,dU,dD,dR,dH]\n",
    "\n",
    "\n",
    "\n",
    "        solutions.append(odeint(f_loc, x0, ts))\n",
    "\n",
    "    return solutions, parameter_diviations"
   ],
   "metadata": {
    "collapsed": false,
    "pycharm": {
     "name": "#%%\n"
    }
   }
  },
  {
   "cell_type": "code",
   "execution_count": 59,
   "outputs": [],
   "source": [
    "#Specific cases: adjust where it should be saved!\n",
    "def plot_specific_sensitivity_with_bounds(original_curves, params, string_params, n_perturb, upper_bound, lower_bound, perturb_index):\n",
    "\n",
    "    single_perturbed_sol, parameter_perturbed = perturb_single_param_specific_range(n_perturb, params, upper_bound, lower_bound, perturb_index)\n",
    "    plot_compartments_2(original_curves, parameter_perturbed, single_perturbed_sol, string_params, perturb_index, True)\n",
    "    print('Done with parameter ' + string_params[perturb_index])\n",
    "    S_max, S_min, S_max_index, S_min_index = get_min_max_2(single_perturbed_sol)\n",
    "    return S_max - S_min\n"
   ],
   "metadata": {
    "collapsed": false,
    "pycharm": {
     "name": "#%%\n"
    }
   }
  },
  {
   "cell_type": "markdown",
   "source": [
    "# Calculate and plot specific range perturbations\n",
    "\n",
    "The calculations and plots are carried out automatically.\n",
    "The plots are saved in \"perturb_specific_range\".\n",
    "The results of the sensitivity analysis is stored the file: specific_bounds_parameter_ordered_by_sensitivity.csv."
   ],
   "metadata": {
    "collapsed": false,
    "pycharm": {
     "name": "#%% md\n"
    }
   }
  },
  {
   "cell_type": "code",
   "execution_count": 60,
   "outputs": [
    {
     "data": {
      "text/plain": "HBox(children=(FloatProgress(value=0.0, max=10.0), HTML(value='')))",
      "application/vnd.jupyter.widget-view+json": {
       "version_major": 2,
       "version_minor": 0,
       "model_id": "19d257386d364c3990b799e477b0db4a"
      }
     },
     "metadata": {},
     "output_type": "display_data"
    },
    {
     "name": "stdout",
     "output_type": "stream",
     "text": [
      "\n",
      "Done with parameter ρ1\n"
     ]
    },
    {
     "data": {
      "text/plain": "HBox(children=(FloatProgress(value=0.0, max=10.0), HTML(value='')))",
      "application/vnd.jupyter.widget-view+json": {
       "version_major": 2,
       "version_minor": 0,
       "model_id": "125652be5fe54032b2a976bf9feeabfb"
      }
     },
     "metadata": {},
     "output_type": "display_data"
    },
    {
     "name": "stdout",
     "output_type": "stream",
     "text": [
      "\n",
      "Done with parameter σ1\n"
     ]
    },
    {
     "data": {
      "text/plain": "HBox(children=(FloatProgress(value=0.0, max=10.0), HTML(value='')))",
      "application/vnd.jupyter.widget-view+json": {
       "version_major": 2,
       "version_minor": 0,
       "model_id": "896143f661c941fc80342c229e5bafbc"
      }
     },
     "metadata": {},
     "output_type": "display_data"
    },
    {
     "name": "stdout",
     "output_type": "stream",
     "text": [
      "\n",
      "Done with parameter τ1\n"
     ]
    },
    {
     "data": {
      "text/plain": "HBox(children=(FloatProgress(value=0.0, max=10.0), HTML(value='')))",
      "application/vnd.jupyter.widget-view+json": {
       "version_major": 2,
       "version_minor": 0,
       "model_id": "dfc61ea9a9fc4ef1a55d6c85aa4847b8"
      }
     },
     "metadata": {},
     "output_type": "display_data"
    },
    {
     "name": "stdout",
     "output_type": "stream",
     "text": [
      "\n",
      "Done with parameter ρ2\n"
     ]
    },
    {
     "data": {
      "text/plain": "HBox(children=(FloatProgress(value=0.0, max=10.0), HTML(value='')))",
      "application/vnd.jupyter.widget-view+json": {
       "version_major": 2,
       "version_minor": 0,
       "model_id": "6fc1e3540792448093e21e60911e5724"
      }
     },
     "metadata": {},
     "output_type": "display_data"
    },
    {
     "name": "stdout",
     "output_type": "stream",
     "text": [
      "\n",
      "Done with parameter σ2\n"
     ]
    },
    {
     "data": {
      "text/plain": "HBox(children=(FloatProgress(value=0.0, max=10.0), HTML(value='')))",
      "application/vnd.jupyter.widget-view+json": {
       "version_major": 2,
       "version_minor": 0,
       "model_id": "17776fa015164e9088cf70de864e9cf6"
      }
     },
     "metadata": {},
     "output_type": "display_data"
    },
    {
     "name": "stdout",
     "output_type": "stream",
     "text": [
      "\n",
      "Done with parameter τ2\n"
     ]
    },
    {
     "data": {
      "text/plain": "HBox(children=(FloatProgress(value=0.0, max=10.0), HTML(value='')))",
      "application/vnd.jupyter.widget-view+json": {
       "version_major": 2,
       "version_minor": 0,
       "model_id": "50cb9747bd944bce91d82c951536d0d2"
      }
     },
     "metadata": {},
     "output_type": "display_data"
    },
    {
     "name": "stdout",
     "output_type": "stream",
     "text": [
      "\n",
      "Done with parameter ρ3\n"
     ]
    },
    {
     "data": {
      "text/plain": "HBox(children=(FloatProgress(value=0.0, max=10.0), HTML(value='')))",
      "application/vnd.jupyter.widget-view+json": {
       "version_major": 2,
       "version_minor": 0,
       "model_id": "b5301b302dd84196b2797d578f0c45f8"
      }
     },
     "metadata": {},
     "output_type": "display_data"
    },
    {
     "name": "stdout",
     "output_type": "stream",
     "text": [
      "\n",
      "Done with parameter σ3\n"
     ]
    },
    {
     "data": {
      "text/plain": "HBox(children=(FloatProgress(value=0.0, max=10.0), HTML(value='')))",
      "application/vnd.jupyter.widget-view+json": {
       "version_major": 2,
       "version_minor": 0,
       "model_id": "f342e700071243e09cf464cf1c5ffa52"
      }
     },
     "metadata": {},
     "output_type": "display_data"
    },
    {
     "name": "stdout",
     "output_type": "stream",
     "text": [
      "\n",
      "Done with parameter τ3\n"
     ]
    },
    {
     "data": {
      "text/plain": "HBox(children=(FloatProgress(value=0.0, max=10.0), HTML(value='')))",
      "application/vnd.jupyter.widget-view+json": {
       "version_major": 2,
       "version_minor": 0,
       "model_id": "46564a2802c947e9af6ac26354034c2e"
      }
     },
     "metadata": {},
     "output_type": "display_data"
    },
    {
     "name": "stdout",
     "output_type": "stream",
     "text": [
      "\n",
      "Done with parameter E\n"
     ]
    },
    {
     "data": {
      "text/plain": "HBox(children=(FloatProgress(value=0.0, max=10.0), HTML(value='')))",
      "application/vnd.jupyter.widget-view+json": {
       "version_major": 2,
       "version_minor": 0,
       "model_id": "c22414f2e7204db7bf6f5aa25f194ab4"
      }
     },
     "metadata": {},
     "output_type": "display_data"
    },
    {
     "name": "stdout",
     "output_type": "stream",
     "text": [
      "\n",
      "Done with parameter Q_1\n"
     ]
    },
    {
     "data": {
      "text/plain": "HBox(children=(FloatProgress(value=0.0, max=10.0), HTML(value='')))",
      "application/vnd.jupyter.widget-view+json": {
       "version_major": 2,
       "version_minor": 0,
       "model_id": "fd93dd6fb69344b8bbe33156a4948ec1"
      }
     },
     "metadata": {},
     "output_type": "display_data"
    },
    {
     "name": "stdout",
     "output_type": "stream",
     "text": [
      "\n",
      "Done with parameter I\n",
      "Ordered from largest to smallest\n",
      "[['σ1', 3433295.287751511], ['σ2', 3076817.7964155674], ['I', 1044411.5776148117], ['E', 908300.3856628411], ['ρ3', 208928.55535834646], ['τ2', 197979.02917418667], ['ρ2', 101824.57235967736], ['σ3', 84063.71959179414], ['ρ1', 45793.44862726814], ['τ1', 21745.682009104436], ['τ4', 14842.977240817769], ['Q_1', 4845.947645054891]]\n",
      "   param_name         value\n",
      "0          σ1  3.433295e+06\n",
      "1          σ2  3.076818e+06\n",
      "2           I  1.044412e+06\n",
      "3           E  9.083004e+05\n",
      "4          ρ3  2.089286e+05\n",
      "5          τ2  1.979790e+05\n",
      "6          ρ2  1.018246e+05\n",
      "7          σ3  8.406372e+04\n",
      "8          ρ1  4.579345e+04\n",
      "9          τ1  2.174568e+04\n",
      "10         τ4  1.484298e+04\n",
      "11        Q_1  4.845948e+03\n"
     ]
    }
   ],
   "source": [
    "#params = np.array([β,r_1,r_2,γ,δ,ψ,α,ϕ,χ,λ,η,a,ρ1,σ1,τ1,ρ2,σ2,τ2,ρ3,σ3,τ3,E,Q_1,Q_2,I,V,U,D,R])\n",
    "min_max_liste = []\n",
    "n_perturbations = 50000\n",
    "min_max_liste.append(plot_specific_sensitivity_with_bounds(original, params, string_params,n_perturbations, upper_bound=0.0003, lower_bound= 0.00016, perturb_index=12)) #rho 1\n",
    "min_max_liste.append(plot_specific_sensitivity_with_bounds(original, params, string_params,n_perturbations, upper_bound=0.15, lower_bound= 0.09, perturb_index=13)) # σ 1\n",
    "min_max_liste.append(plot_specific_sensitivity_with_bounds(original, params, string_params,n_perturbations, upper_bound=0.90, lower_bound= 0.18, perturb_index=14)) #tau 1\n",
    "min_max_liste.append(plot_specific_sensitivity_with_bounds(original, params, string_params,n_perturbations, upper_bound=0.00125, lower_bound= 0.0009, perturb_index=15)) #rho 2\n",
    "min_max_liste.append(plot_specific_sensitivity_with_bounds(original, params, string_params,n_perturbations, upper_bound=0.065, lower_bound= 0.03, perturb_index=16)) #σ 2\n",
    "min_max_liste.append(plot_specific_sensitivity_with_bounds(original, params, string_params,n_perturbations, upper_bound=0.98, lower_bound= 0.20, perturb_index=17)) #tau 2\n",
    "min_max_liste.append(plot_specific_sensitivity_with_bounds(original, params, string_params,n_perturbations, upper_bound=0.0025, lower_bound= 0, perturb_index=18)) #rho 3\n",
    "min_max_liste.append(plot_specific_sensitivity_with_bounds(original, params, string_params,n_perturbations, upper_bound=0.19, lower_bound= 0.16, perturb_index=19)) #sigma3\n",
    "min_max_liste.append(plot_specific_sensitivity_with_bounds(original, params, string_params,n_perturbations, upper_bound=1, lower_bound= 0.35, perturb_index=20)) #tau 3\n",
    "\n",
    "\n",
    "min_max_liste.append(plot_specific_sensitivity_with_bounds(original, params, string_params,n_perturbations, upper_bound=8500, lower_bound= 1800, perturb_index=21)) #E\n",
    "min_max_liste.append(plot_specific_sensitivity_with_bounds(original, params, string_params,n_perturbations, upper_bound=8600, lower_bound= 2700, perturb_index=22)) #Q_1\n",
    "min_max_liste.append(plot_specific_sensitivity_with_bounds(original, params, string_params,n_perturbations, upper_bound=8200, lower_bound= 1800, perturb_index=24)) #I\n",
    "\n",
    "print('Ordered from largest to smallest')\n",
    "string_params_short = ['ρ1','σ1','τ1','ρ2','σ2','τ2','ρ3','σ3','τ4','E','Q_1','I']\n",
    "ordered_sensitivity_params = find_most_sensitive_parameter(min_max_liste, string_params_short)\n",
    "print(ordered_sensitivity_params)\n",
    "df = pd.DataFrame(ordered_sensitivity_params, columns=['param_name', 'value'])\n",
    "print(df)\n",
    "df.to_csv('specific_bounds_parameter_ordered_by_sensitivity.csv')"
   ],
   "metadata": {
    "collapsed": false,
    "pycharm": {
     "name": "#%%\n"
    }
   }
  },
  {
   "cell_type": "markdown",
   "source": [
    "# Load sensitivity results if needed:"
   ],
   "metadata": {
    "collapsed": false,
    "pycharm": {
     "name": "#%% md\n"
    }
   }
  },
  {
   "cell_type": "code",
   "execution_count": 61,
   "outputs": [
    {
     "name": "stdout",
     "output_type": "stream",
     "text": [
      "all_params_ordered_by_sensitivity.csv \n",
      "\n",
      "   param_name         value\n",
      "0           V  4.862335e+06\n",
      "1           α  4.108969e+06\n",
      "2           D  2.654314e+06\n",
      "3           β  2.576970e+06\n",
      "4           R  1.652148e+06\n",
      "5         r_1  1.155673e+06\n",
      "6           ψ  1.048304e+06\n",
      "7           U  6.325731e+05\n",
      "8           δ  6.309630e+05\n",
      "9          σ1  5.078092e+05\n",
      "10         σ2  3.612057e+05\n",
      "11          γ  3.019021e+05\n",
      "12          I  1.438807e+05\n",
      "13          χ  9.827398e+04\n",
      "14         σ3  4.771310e+04\n",
      "15        r_2  3.986679e+04\n",
      "16         ρ2  3.729065e+04\n",
      "17          λ  2.955796e+04\n",
      "18          E  2.478856e+04\n",
      "19          η  2.202553e+04\n",
      "20         τ2  1.448022e+04\n",
      "21         ρ1  6.411979e+03\n",
      "22          ϕ  3.731541e+03\n",
      "23        Q_2  1.366179e+03\n",
      "24         τ1  8.924536e+02\n",
      "25        Q_1  7.974841e+02\n",
      "26         ρ3  6.070260e+01\n",
      "27         τ3  3.025673e-01\n",
      "28          a  5.895875e-02\n",
      "all_params_ordered_by_sensitivity_influence_on_I.csv\n",
      "   param_name          value\n",
      "0           β  229301.500825\n",
      "1           V  114517.117244\n",
      "2         r_1  111236.740264\n",
      "3           δ   62423.527165\n",
      "4          σ1   41675.383975\n",
      "5          σ2   34721.275905\n",
      "6           γ   26896.239174\n",
      "7           ψ   18434.550929\n",
      "8           I   11393.509859\n",
      "9          σ3   10389.770216\n",
      "10          R    9878.963865\n",
      "11          D    9038.841151\n",
      "12          α    2034.813076\n",
      "13          E    1971.741465\n",
      "14         ρ2     824.750415\n",
      "15         τ2     242.224454\n",
      "16          U     188.803655\n",
      "17         ρ1     122.089266\n",
      "18        r_2     112.813629\n",
      "19          χ      47.932622\n",
      "20        Q_2      24.466692\n",
      "21          λ      23.858774\n",
      "22         τ1      19.704185\n",
      "23          ϕ      18.791425\n",
      "24        Q_1      17.344707\n",
      "25          η      15.868674\n",
      "26         ρ3       0.330297\n",
      "27          a       0.001168\n",
      "28         τ3       0.000974\n",
      "specific_bounds_parameter_ordered_by_sensitivity\n",
      "   param_name         value\n",
      "0          σ1  3.433295e+06\n",
      "1          σ2  3.076818e+06\n",
      "2           I  1.044412e+06\n",
      "3           E  9.083004e+05\n",
      "4          ρ3  2.089286e+05\n",
      "5          τ2  1.979790e+05\n",
      "6          ρ2  1.018246e+05\n",
      "7          σ3  8.406372e+04\n",
      "8          ρ1  4.579345e+04\n",
      "9          τ1  2.174568e+04\n",
      "10         τ4  1.484298e+04\n",
      "11        Q_1  4.845948e+03\n"
     ]
    }
   ],
   "source": [
    "df = pd.read_csv('all_params_ordered_by_sensitivity.csv', usecols=['param_name', 'value'])\n",
    "print('all_params_ordered_by_sensitivity.csv \\n' )\n",
    "print(df)\n",
    "\n",
    "df3 = pd.read_csv('all_params_ordered_by_sensitivity_influence_on_I.csv', usecols=['param_name', 'value'])\n",
    "print('all_params_ordered_by_sensitivity_influence_on_I.csv')\n",
    "print(df3)\n",
    "\n",
    "df2 = pd.read_csv('specific_bounds_parameter_ordered_by_sensitivity.csv', usecols=['param_name', 'value'])\n",
    "print('specific_bounds_parameter_ordered_by_sensitivity')\n",
    "print(df2)"
   ],
   "metadata": {
    "collapsed": false,
    "pycharm": {
     "name": "#%%\n"
    }
   }
  },
  {
   "cell_type": "code",
   "execution_count": 61,
   "outputs": [],
   "source": [],
   "metadata": {
    "collapsed": false,
    "pycharm": {
     "name": "#%%\n"
    }
   }
  }
 ],
 "metadata": {
  "kernelspec": {
   "display_name": "Python 3 (ipykernel)",
   "language": "python",
   "name": "python3"
  },
  "language_info": {
   "codemirror_mode": {
    "name": "ipython",
    "version": 3
   },
   "file_extension": ".py",
   "mimetype": "text/x-python",
   "name": "python",
   "nbconvert_exporter": "python",
   "pygments_lexer": "ipython3",
   "version": "3.7.3"
  }
 },
 "nbformat": 4,
 "nbformat_minor": 5
}
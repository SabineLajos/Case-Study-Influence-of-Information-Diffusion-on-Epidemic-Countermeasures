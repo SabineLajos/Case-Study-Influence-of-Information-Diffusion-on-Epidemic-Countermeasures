{
 "cells": [
  {
   "cell_type": "markdown",
   "id": "a4539b6f",
   "metadata": {},
   "source": [
    "# Import"
   ]
  },
  {
   "cell_type": "code",
   "execution_count": 1,
   "id": "97d6731e",
   "metadata": {},
   "outputs": [],
   "source": [
    "import matplotlib.pyplot as plt\n",
    "import seaborn as sns\n",
    "sns.set()\n",
    "import numpy as np\n",
    "import pandas as pd\n",
    "from lmfit import minimize, Parameters, Parameter, report_fit\n",
    "from scipy.integrate import odeint"
   ]
  },
  {
   "cell_type": "markdown",
   "id": "d2051d81",
   "metadata": {},
   "source": [
    "# Definition of the model\n",
    "\n",
    "For the fitting we use the cumulative case numbers, we need to add a compartment here to count them. In our model, all detected cases end up in Q2, which is why we count the number of people entering there.\n"
   ]
  },
  {
   "cell_type": "code",
   "execution_count": 2,
   "id": "f765698b",
   "metadata": {},
   "outputs": [],
   "source": [
    "def f(xs, t, ps):\n",
    "    '''Coupled Opinion and Epidemic Model'''\n",
    "    timeslot_1 = 589 - 549 #01.07.2021 - 10.08.2021\n",
    "    timeslot_2 = timeslot_1 + 689-589 # 10.08.2021 - 18.11.2021\n",
    "\n",
    "    try:\n",
    "        if t<(timeslot_1):\n",
    "            ρ = ps['ρ1'].value \n",
    "            σ = ps['σ1'].value \n",
    "            τ = ps['τ1'].value \n",
    "        elif t>=timeslot_1 and t < timeslot_2:\n",
    "            ρ = ps['ρ2'].value \n",
    "            σ = ps['σ2'].value \n",
    "            τ = ps['τ2'].value\n",
    "        else:\n",
    "            ρ = ps['ρ3'].value \n",
    "            σ = ps['σ3'].value \n",
    "            τ = ps['τ3'].value\n",
    "\n",
    "    except:\n",
    "        ρ,σ,τ = ps\n",
    "        \n",
    "    S,E,Q_1,Q_2,I,V,    L,U,D,R,H, Q_C = xs\n",
    "    N = S + E + Q_1 + Q_2 + I + V\n",
    "    Q = Q_1 + Q_2\n",
    "    \n",
    "    R_G = a*R/(1+a*R)\n",
    "\n",
    "    η_1 = 1/2.5 * 0.897 * (S/(S+V))\n",
    "    η_2 = 1/2.5 * 0.103\n",
    "    η_3 = 1/2.5 * 0.897 * (V/(S+V))\n",
    "    \n",
    "    dS = -β * I/(N-Q) * S - ψ * ( 1 - (R + τ * U) / N + D/N ) * S - ρ * (1 - (R + τ * U) / N) * S + η_1 * Q_1\n",
    "    dE = β * I/(N-Q) * S + β * δ * I/(N-Q) * V - ρ * ( 1- (R + τ * U)/N) * E - γ * E\n",
    "    dQ_1 = ρ * ( 1- (R + τ * U)/N) * S + ρ * ( 1- (R + τ * U)/N) * E + ρ * ( 1- (R + τ * U)/N) * V - η_1 * Q_1 - η_2 * Q_1 - η_3 * Q_1\n",
    "    dQ_2 = σ * ( 1- R/N) * I + η_2 * Q_1 - r_2 * Q_2\n",
    "    dI = γ * E - σ * ( 1- R/N) * I - r_1 * I\n",
    "    dV = r_1 * I + r_2 * Q_2 + η_3 * Q_1 + ψ * ( 1- (R + τ * U)/N + D/N) * S - β * δ * I/(N-Q) * V - ρ * ( 1- (R + τ * U)/N) * V\n",
    "    \n",
    "    dL = -α * R/N * L*(1-(I+Q_2)/N) - α * U/N * L - α * D/N * L*(1+(I+Q_2)/N) + ϕ * R + ϕ * H\n",
    "    dU = α * U/N * L-  χ* R_G/N * U *(1-(I+Q_2)/N) - χ * D/N * U*(1+(I+Q_2)/N) - λ * U\n",
    "    dD = α * D/N * L*(1+(I+Q_2)/N) + χ * D/N * U*(1+(I+Q_2)/N) - λ * D \n",
    "    dR = α * R/N * L* (1-(I+Q_2)/N) + χ * R_G/N * U*(1-(I+Q_2)/N) - ϕ * R \n",
    "    dH = λ * D + λ * U - ϕ * H\n",
    "    \n",
    "    #cumulative numbers:\n",
    "    dQ_C = σ * ( 1- R/N) * I + η_2 * Q_1\n",
    "    \n",
    "    \n",
    "    return [dS,dE,dQ_1,dQ_2,dI,dV,dL,dU,dD,dR,dH,dQ_C]"
   ]
  },
  {
   "cell_type": "markdown",
   "id": "784f7a80",
   "metadata": {},
   "source": [
    "# Definition of the fixed parameters"
   ]
  },
  {
   "cell_type": "code",
   "execution_count": 3,
   "id": "6e2f2f16",
   "metadata": {},
   "outputs": [],
   "source": [
    "#epidemic model\n",
    "β = 0.4\n",
    "r_1 = 0.1\n",
    "r_2 = 1/12\n",
    "γ = 1/4\n",
    "δ = 0.28\n",
    "ψ = 0.00265\n",
    "\n",
    "\n",
    "#Oppinion model\n",
    "α = 0.071\n",
    "ϕ = 1.9685e-5\n",
    "χ = 0.0031\n",
    "λ = 4.2972e-5\n",
    "\n",
    "#Holling Type 2\n",
    "a = 0.8"
   ]
  },
  {
   "cell_type": "markdown",
   "id": "c2acdaad",
   "metadata": {},
   "source": [
    "# Definition of the residual and the initial conditions\n",
    "\n",
    "The residual is needed for the optimisation."
   ]
  },
  {
   "cell_type": "code",
   "execution_count": 4,
   "id": "3ebbf5dc",
   "metadata": {},
   "outputs": [],
   "source": [
    "def g(t, x0, ps):\n",
    "    \"\"\"Solution to the ODE x'(t) = f(t,x,k) with initial condition x(0) = x0\"\"\"\n",
    "    x = odeint(f, x0, t, args=(ps,))\n",
    "    return x\n",
    "\n",
    "def residual(ps, ts, data):\n",
    "    \n",
    "    #initial conditions for the compartments\n",
    "    U = 140000\n",
    "    D = 1400000\n",
    "    R = 350000\n",
    "    H = 0\n",
    "    L = 70000000 - D - R - H - U\n",
    "\n",
    "    E = ps['E'].value\n",
    "    Q_1 = ps['Q_1'].value\n",
    "    Q_2 = 3649881-3642450 #calculated from the incidence  of the 01.07.2021\n",
    "    I = ps['I'].value\n",
    "    V = 34715161\n",
    "    S = 70000000 - E - Q_1 - Q_2 - I - V\n",
    "    \n",
    "    #define the number of people which are or were already infected \n",
    "    Q_C = 3729033\n",
    "    \n",
    "    x0 = [S, E, Q_1, Q_2, I, V,    #epidemics\n",
    "      L, U, D, R, H, Q_C]           #oppinion;\n",
    "\n",
    "    model = g(ts, x0, ps) \n",
    "    \n",
    "    #return the cumulative compartment\n",
    "    return (model[:,11]-data).ravel()"
   ]
  },
  {
   "cell_type": "markdown",
   "id": "75173c42",
   "metadata": {},
   "source": [
    "# Importing and preparing data, setting time\n",
    "\n",
    "The exact number of new infections is usually not available, instead we use cumulative case numbers. These are calculated and stored in an array."
   ]
  },
  {
   "cell_type": "code",
   "execution_count": 5,
   "id": "dafb2e75",
   "metadata": {},
   "outputs": [
    {
     "name": "stdout",
     "output_type": "stream",
     "text": [
      "[  0   1   2   3   4   5   6   7   8   9  10  11  12  13  14  15  16  17\n",
      "  18  19  20  21  22  23  24  25  26  27  28  29  30  41  42  43  44  45\n",
      "  46  47  48  49  50  51  52  53  54  55  56  57  58  59  60  61  62  63\n",
      "  64  65  66  67  68  69  70  71  72  73  74  75  76  77  78  79  80  81\n",
      "  82  83  84  85  86  87  88  89  90  91  92  93  94  95  96  97  98  99\n",
      " 100 101 102 103 104 105 106 107 108 109 110 111 112 113 114 115 116 117\n",
      " 118 119 120 141 142 143 144 145 146 147 148 149 150 151 152 153 154 155\n",
      " 156 157 158 159 160 161 162 163 164 165 166 167 168 169 170 171]\n",
      "[ 31  32  33  34  35  36  37  38  39  40 121 122 123 124 125 126 127 128\n",
      " 129 130 131 132 133 134 135 136 137 138 139 140 172 173 174 175 176 177\n",
      " 178 179 180 181 182 183]\n",
      "[3739560 3740256 3740889 3741472 3742398 3743412 3744413 3745460 3746492\n",
      " 3747544 3748496 3749928 3751576 3753198 3754750 3756349 3757871 3759232\n",
      " 3761227 3763399 3765521 3767464 3769536 3771454 3773142 3775596 3778328\n",
      " 3781046 3783356 3785871 3788270 3790519 3793694 3797218 3800797 3804279\n",
      " 3808145 3811733 3814935 3819680 3825062 3830762 3836175 3842241 3848014\n",
      " 3853066 3860245 3867892 3876342 3884333 3893489 3901449 3908156 3917557\n",
      " 3928108 3939048 3949241 3959185 3968270 3975057 3985550 3997426 4010451\n",
      " 4021460 4032943 4042752 4049986 4060110 4071957 4083902 4094187 4104282\n",
      " 4112524 4118554 4127244 4137599 4147249 4155908 4163908 4170755 4176121\n",
      " 4183960 4192908 4201982 4210205 4218576 4225769 4231614 4240002 4249758\n",
      " 4259214 4267375 4275701 4282930 4289074 4297787 4307456 4317088 4325818\n",
      " 4334986 4343111 4350100 4360066 4371201 4382792 4393565 4405684 4417048\n",
      " 4426680 4440831 4457602 4474973 4490810 4507960 4523456 4536470 4555404\n",
      " 4577704 4600952 4622269 4644474 4664729 4680724 4703138 4730402 4762605\n",
      " 4794068 4826658 4855937 4878886 4913412 4955596 5001319 5045661 5090179\n",
      " 5128547 5158719 5204133 5262045 5320892 5378428 5438742 5486152 5520933\n",
      " 5575002 5640098 5708059 5770859 5831176 5876755 5910977 5961872 6027848\n",
      " 6095637 6155984 6215084 6258876 6289472 6337281 6398600 6457974 6509301\n",
      " 6557177 6592162 6614381 6650178 6701401 6747380 6788677 6826600 6854642\n",
      " 6872277 6902076 6942687 6978329 7010283 7034564 7051604 7070286 7100853\n",
      " 7141873 7180580 7218544 7249476]\n"
     ]
    }
   ],
   "source": [
    "path = '/Users/tobiasgerwald/Library/CloudStorage/OneDrive-Persönlich/Desktop/Case Studies Life Sciences/Daten/' #path to exel with rki case numbers\n",
    "\n",
    "\n",
    "data = pd.read_excel(path + '00 Bundeslaender Gesamt.xlsx',\n",
    "                     sheet_name='Gesamt',\n",
    "                     header=0)\n",
    "\n",
    "\n",
    "\n",
    "data = data['Fälle']\n",
    "train = []\n",
    "\n",
    "days = 732 - 549 #from 01.07.2021 to 31.12.2021\n",
    "\n",
    "#depends on the days we want to observe\n",
    "#t = np.linspace(0,days, days+1)\n",
    "t1 = np.linspace(0, 30, 31, dtype = 'int32')\n",
    "t2 = np.linspace(41, 120, 80, dtype = 'int32')\n",
    "t3 = np.linspace(141, 171, 31, dtype = 'int32')\n",
    "t = np.concatenate((t1, t2, t3), axis=None)\n",
    "print(t)\n",
    "\n",
    "\n",
    "t4 = np.linspace(31, 40, 10, dtype = 'int32')\n",
    "t5 = np.linspace(121, 140, 20, dtype = 'int32')\n",
    "t6 = np.linspace(172, 183, 12, dtype = 'int32')\n",
    "tval = np.concatenate((t4, t5, t6), axis=None)\n",
    "print(tval)\n",
    "\n",
    "\n",
    "#range depends on the dates where we start and where we end\n",
    "for i in range(days+1):\n",
    "    train.append(sum(data[0:548+i]))\n",
    "data = np.array(train)\n",
    "print(data)"
   ]
  },
  {
   "cell_type": "markdown",
   "id": "ca8f0f25",
   "metadata": {},
   "source": [
    "# Define the parameters we want to fit and their range\n"
   ]
  },
  {
   "cell_type": "code",
   "execution_count": 6,
   "id": "17534440",
   "metadata": {},
   "outputs": [],
   "source": [
    "params = Parameters()\n",
    "params.add('ρ1', value=0.5, min=0, max=1)\n",
    "params.add('σ1', value=0.25, min=0, max=0.5)\n",
    "params.add('τ1', value=0.5, min=0, max=1)\n",
    "\n",
    "params.add('ρ2', value=0.5, min=0, max=1)\n",
    "params.add('σ2', value=0.25, min=0, max=0.5)\n",
    "params.add('τ2', value=0.5, min=0, max=1)\n",
    "\n",
    "params.add('ρ3', value=0.5, min=0, max=1)\n",
    "params.add('σ3', value=0.25, min=0, max=0.5)\n",
    "params.add('τ3', value=0.5, min=0, max=1)\n",
    "\n",
    "params.add('E', value=100, min=10, max=10000)\n",
    "params.add('Q_1', value=5000, min=1000, max=10000)\n",
    "params.add('I', value=1000, min=100, max=10000)"
   ]
  },
  {
   "cell_type": "markdown",
   "id": "0af4c238",
   "metadata": {},
   "source": [
    "# Fit the model and find predicted values\n"
   ]
  },
  {
   "cell_type": "code",
   "execution_count": 7,
   "id": "f757fdd6",
   "metadata": {},
   "outputs": [
    {
     "name": "stdout",
     "output_type": "stream",
     "text": [
      "[[Fit Statistics]]\n",
      "    # fitting method   = leastsq\n",
      "    # function evals   = 572\n",
      "    # data points      = 142\n",
      "    # variables        = 12\n",
      "    chi-square         = 1.5466e+11\n",
      "    reduced chi-square = 1.1897e+09\n",
      "    Akaike info crit   = 2978.83421\n",
      "    Bayesian info crit = 3014.30414\n",
      "[[Variables]]\n",
      "    ρ1:   3.0607e-04 +/- 7.3736e-04 (240.91%) (init = 0.5)\n",
      "    σ1:   0.12645765 +/- 0.25290088 (199.99%) (init = 0.25)\n",
      "    τ1:   0.91176084 +/- 9.61488083 (1054.54%) (init = 0.5)\n",
      "    ρ2:   0.00106899 +/- 2.5571e-04 (23.92%) (init = 0.5)\n",
      "    σ2:   0.01558601 +/- 0.09036970 (579.81%) (init = 0.25)\n",
      "    τ2:   0.02267971 +/- 2.58695506 (11406.48%) (init = 0.5)\n",
      "    ρ3:   0.01008196 +/- 0.14422147 (1430.49%) (init = 0.5)\n",
      "    σ3:   7.2405e-10 +/- 0.00406725 (561736794.37%) (init = 0.25)\n",
      "    τ3:   0.30638422 +/- 174.739106 (57032.67%) (init = 0.5)\n",
      "    E:    4778.55599 +/- 141683.955 (2965.00%) (init = 100)\n",
      "    Q_1:  8436.79731 +/- 1405.84977 (16.66%) (init = 5000)\n",
      "    I:    6148.27993 +/- 75310.8798 (1224.91%) (init = 1000)\n",
      "[[Correlations]] (unreported correlations are < 0.100)\n",
      "    C(ρ3, τ3)  = 0.999\n",
      "    C(ρ3, σ3)  = -0.993\n",
      "    C(σ3, τ3)  = -0.990\n",
      "    C(σ1, E)   = 0.943\n",
      "    C(E, I)    = -0.907\n",
      "    C(τ1, Q_1) = -0.893\n",
      "    C(ρ1, σ1)  = -0.850\n",
      "    C(σ3, Q_1) = 0.846\n",
      "    C(ρ3, Q_1) = -0.828\n",
      "    C(ρ1, E)   = -0.825\n",
      "    C(τ3, Q_1) = -0.818\n",
      "    C(ρ1, σ2)  = 0.801\n",
      "    C(σ1, I)   = -0.791\n",
      "    C(τ1, σ3)  = -0.777\n",
      "    C(τ1, ρ3)  = 0.768\n",
      "    C(τ1, τ3)  = 0.760\n",
      "    C(ρ2, σ2)  = -0.714\n",
      "    C(ρ1, ρ2)  = -0.712\n",
      "    C(ρ1, I)   = 0.511\n",
      "    C(σ1, τ1)  = 0.499\n",
      "    C(ρ2, τ2)  = 0.493\n",
      "    C(σ1, ρ2)  = 0.446\n",
      "    C(σ2, E)   = -0.432\n",
      "    C(τ1, E)   = 0.431\n",
      "    C(ρ2, E)   = 0.405\n",
      "    C(ρ1, τ1)  = -0.382\n",
      "    C(σ1, σ2)  = -0.375\n",
      "    C(τ2, τ3)  = 0.374\n",
      "    C(τ2, ρ3)  = 0.365\n",
      "    C(τ1, I)   = -0.358\n",
      "    C(τ2, σ3)  = -0.332\n",
      "    C(τ1, ρ2)  = 0.249\n",
      "    C(σ2, τ2)  = 0.203\n",
      "    C(τ1, τ2)  = 0.171\n",
      "    C(ρ2, Q_1) = -0.171\n",
      "    C(τ2, Q_1) = -0.151\n",
      "    C(τ1, σ2)  = -0.146\n",
      "    C(σ2, Q_1) = 0.143\n",
      "    C(σ2, τ3)  = 0.136\n",
      "    C(ρ1, Q_1) = 0.120\n",
      "    C(σ2, ρ3)  = 0.106\n",
      "    C(ρ2, I)   = -0.102\n"
     ]
    },
    {
     "data": {
      "image/png": "[encoded data removed]",
      "text/plain": [
       "<Figure size 432x288 with 1 Axes>"
      ]
     },
     "metadata": {
      "needs_background": "light"
     },
     "output_type": "display_data"
    }
   ],
   "source": [
    "result = minimize(residual, params, args=(t, data[t]), method='leastsq')\n",
    "final = data[t] + result.residual.reshape(data[t].shape)\n",
    "\n",
    "# plot data and fitted curves\n",
    "plt.plot(t, data[t], 'o')\n",
    "plt.plot(t, final, 'o')\n",
    "plt.title('Performance on train Data')\n",
    "plt.legend(['data', 'prediction']);\n",
    "\n",
    "\n",
    "# display fitted statistics\n",
    "report_fit(result)"
   ]
  },
  {
   "cell_type": "code",
   "execution_count": 8,
   "id": "36975042",
   "metadata": {},
   "outputs": [],
   "source": [
    "#initial conditions for the compartments\n",
    "U = 140000\n",
    "D = 1400000\n",
    "R = 350000\n",
    "H = 0\n",
    "L = 70000000 - D - R - H - U\n",
    "\n",
    "E = result.params['E'].value\n",
    "I = result.params['I'].value\n",
    "Q_1 = result.params['Q_1'].value\n",
    "Q_2 = 3649881-3642450\n",
    "V = 34715161\n",
    "S = 70000000 - E - Q_1 - Q_2 - I - V\n",
    "\n",
    "Q_C = 3729033\n",
    "\n",
    "x0 = [S, E, Q_1, Q_2, I, V,    #epidemics\n",
    "      L, U, D, R, H, Q_C] \n",
    "\n",
    "ttotal = np.linspace(0,183,184)\n",
    "\n",
    "x = odeint(f, x0, ttotal, args=(result.params,))"
   ]
  },
  {
   "cell_type": "code",
   "execution_count": 9,
   "id": "43f0667a",
   "metadata": {},
   "outputs": [
    {
     "data": {
      "image/png": "[encoded data removed]",
      "text/plain": [
       "<Figure size 432x288 with 1 Axes>"
      ]
     },
     "metadata": {
      "needs_background": "light"
     },
     "output_type": "display_data"
    },
    {
     "data": {
      "text/plain": [
       "<Figure size 3000x2000 with 0 Axes>"
      ]
     },
     "metadata": {},
     "output_type": "display_data"
    }
   ],
   "source": [
    "plt.plot(tval,data[tval], 'o')\n",
    "plt.plot(tval,x[:,11][tval], 'o')\n",
    "plt.title('Performance on validation Data')\n",
    "plt.legend(['data', 'prediction'])\n",
    "plt.xlabel('t in days')\n",
    "plt.ylabel('Cumulative Cases')\n",
    "plt.figure(dpi=500)\n",
    "plt.show()"
   ]
  },
  {
   "cell_type": "code",
   "execution_count": 10,
   "id": "db00f77a",
   "metadata": {},
   "outputs": [
    {
     "data": {
      "image/png": "[encoded data removed]",
      "text/plain": [
       "<Figure size 432x288 with 1 Axes>"
      ]
     },
     "metadata": {
      "needs_background": "light"
     },
     "output_type": "display_data"
    }
   ],
   "source": [
    "plt.plot(ttotal,data, 'o')\n",
    "plt.plot(ttotal,x[:,11], 'o')\n",
    "plt.title('Performance on whole data')\n",
    "plt.legend(['data', 'prediction'])\n",
    "plt.xlabel('t in days')\n",
    "plt.ylabel('Cumulative Cases')\n",
    "plt.show()"
   ]
  },
  {
   "cell_type": "code",
   "execution_count": null,
   "id": "b86eea99",
   "metadata": {},
   "outputs": [],
   "source": []
  }
 ],
 "metadata": {
  "kernelspec": {
   "display_name": "Python 3.9.12 ('Arbeit')",
   "language": "python",
   "name": "python3"
  },
  "language_info": {
   "codemirror_mode": {
    "name": "ipython",
    "version": 3
   },
   "file_extension": ".py",
   "mimetype": "text/x-python",
   "name": "python",
   "nbconvert_exporter": "python",
   "pygments_lexer": "ipython3",
   "version": "3.9.12"
  },
  "vscode": {
   "interpreter": {
    "hash": "c044e14f7aaac2c0d2843572242ccb67acd2dc80a03a97b4168f7e84bda1a88a"
   }
  }
 },
 "nbformat": 4,
 "nbformat_minor": 5
}
